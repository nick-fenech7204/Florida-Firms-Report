{
 "cells": [
  {
   "attachments": {},
   "cell_type": "markdown",
   "metadata": {},
   "source": [
    "## Project Report"
   ]
  },
  {
   "attachments": {},
   "cell_type": "markdown",
   "metadata": {},
   "source": [
    "### Introduction\n",
    "\n",
    "As seen after reading the ETL report, our group has decided to investigate business attributes within the three largest municipalities in the state of Florida. \n",
    "\n",
    "We wanted to see how in the year 2018, each municipality businesses performed within the state, we also were interested in diversity, as well employee to firm size relation.\n",
    "\n",
    "Especially since Florida has a large Hispanic population, and higher population of women than men.\n"
   ]
  },
  {
   "attachments": {},
   "cell_type": "markdown",
   "metadata": {},
   "source": [
    "### Intial Questions"
   ]
  },
  {
   "attachments": {},
   "cell_type": "markdown",
   "metadata": {},
   "source": [
    "* How do the firm sales and amount of firms compare among each municipality?\n",
    "\n",
    "* What does diversity look like within firms?\n",
    "\n",
    "* Is there a higher number of Hispanic firm owners in one municipality compared to another?\n",
    "\n",
    "* How are genders represented in firm owners?\n",
    "\n",
    "* How does the GDP for each municipality compare to the number of firms present? Which is the highest?\n",
    "\n",
    "* Is there a correlation to the amount of employees and amount of firms?"
   ]
  },
  {
   "attachments": {},
   "cell_type": "markdown",
   "metadata": {},
   "source": [
    "### Analysis "
   ]
  },
  {
   "attachments": {},
   "cell_type": "markdown",
   "metadata": {},
   "source": [
    "After conducting our ETL process to gather the data into a normalized form, we're able to look through and start creating sample visuals to answer our questions.\n",
    "\n",
    "For overall higher-level questions across municipalities, we created bar charts to quickly compare the firm sales and amount of firms for each city. \n",
    "\n",
    "From there, we could see that there was a distinct trend in the number of firms with all the municipalities, which then prompted us to create a large visual to show the spread across all of them. \n",
    "\n",
    "In our analysis, we see that a large amount of firms in all three municipalities range in the $100,000 to $249,999 and over $1,000,000 sales over the course of the year. \n",
    "\n",
    "This is very interesting since the number of firms vary greatly, however the trend stays the same throughout the state. It makes sense many firms profit over $1,000,000 a year, however more research would be needed on why there is such a large amount at the threshold of $100,000 to $249,999. Data surrounding firms in this profit range may aid in gathering insight into why this is. \n",
    "\n"
   ]
  },
  {
   "attachments": {},
   "cell_type": "markdown",
   "metadata": {},
   "source": [
    "When looking at diversity in each municipality, we wanted to see how populations are represented within the firms. The state of Florida's Hispanic populations accounts for roughly [26%](https://en.wikipedia.org/wiki/Demographics_of_Florida#:~:text=2018%20American%20Community%20Survey,-Racial%20Makeup%20of&text=By%20ethnicity%2C%2026.1%25%20of%20the,largest%20minority%20group%20in%20Florida.) of the state's population in 2018.\n",
    "Florida also has a slightly larger female population, around [446,725](https://www.states101.com/gender-ratios/florida#:~:text=There%20are%20more%20women%20than,96%3A100) more women than men in the state.\n",
    "\n",
    "Through our findings, we see that a majority of the firms in all municipalities are owned by non-Hispanic men, with Tampa reporting the highest diversity. All three municipalities have proportionally the same amount of female and male firm owners as well. \n",
    "\n",
    "This trend of women and minority groups not representing a proportional number of the population of business owners is common throughout the State. More analysis should be conducted on what exactly leads to these figures, however that may be out of the scope of this report.\n",
    "\n",
    "\n"
   ]
  },
  {
   "attachments": {},
   "cell_type": "markdown",
   "metadata": {},
   "source": [
    "Comparing GDP and firm amounts is an important indicator of the top economy in the state. Miami is the largest out of all the municipalities without question in terms of GDP(over $300 Billion) and firm amount. \n",
    "\n",
    "However, one interesting point we noticed within the report is that Orlando reported a higher GDP than Tampa, with over 20,000 less firms.\n",
    "One major factor for this may be Disney World being associated with Orlando, thus raising the economy up significantly with less firms in the area. \n",
    "We feel this is a fair conclusion to draw on why this would occur, since one would discern that the more firms in a municipality, the higher the GDP. \n",
    "\n",
    "\n",
    "We also decided to look at the correlation between the number of employees and the number of firms across all municipalities. The findings are what one would expect, however there are interesting points that may require more data to analyze. There is a positive correlation between the number of firms increasing, and the number of employees increasing. However, there are interesting outliers, also the correlation decreases as the firm amount and employee amount increases above a certain point. \n",
    "\n",
    "This can be contributed to many factors such as firm needs, employments rates, and other associated employment attributes not provided within the current data. \n",
    "\n"
   ]
  },
  {
   "attachments": {},
   "cell_type": "markdown",
   "metadata": {},
   "source": [
    "### Conclusion"
   ]
  },
  {
   "attachments": {},
   "cell_type": "markdown",
   "metadata": {},
   "source": [
    "In our report, we were able to make some assertions with the data provided, this can aid in understanding the three largest municipalities in Florida and how they contribute to the State as whole regarding firms, employment, and GDP. We also found our questions lead to more questions, which is a common fact of investigating root causes. More analysis, with much more relevant data, would be required to look at the root causes of diversity and economic attributes for each municipality."
   ]
  },
  {
   "attachments": {},
   "cell_type": "markdown",
   "metadata": {},
   "source": [
    "### Sources\n",
    "\n",
    "\n",
    "* [Bureau, U. S. C. (2022, October 28). Annual Business Survey (ABS) apis. Census.gov. Retrieved April 23, 2023](https://www.census.gov/data/developers/data-sets/abs.2019.html)\n",
    "\n",
    "* [Federal Reserve Bank of St. Louis. (n.d.). FRED. Retrieved April 23, 2023](https://fred.stlouisfed.org/categories/30605)\n",
    "\n",
    "* [Florida gender ratios. (n.d.). Retrieved April 23, 2023](https://www.states101.com/gender-ratios/florida#:~:text=There%20are%20more%20women%20than,96%3A100%20or%200.96)\n",
    "\n",
    "* [Wikimedia Foundation. (2023, March 28). Demographics of Florida. Wikipedia. Retrieved April 23, 2023](https://en.wikipedia.org/wiki/Demographics_of_Florida#:~:text=2018%20American%20Community%20Survey,-Racial%20Makeup%20of&amp;text=By%20ethnicity%2C%2026.1%25%20of%20the,largest%20minority%20group%20in%20Florida)"
   ]
  }
 ],
 "metadata": {
  "language_info": {
   "name": "python"
  },
  "orig_nbformat": 4
 },
 "nbformat": 4,
 "nbformat_minor": 2
}
