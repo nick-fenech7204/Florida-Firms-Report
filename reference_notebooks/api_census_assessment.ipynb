{
 "cells": [
  {
   "cell_type": "code",
   "execution_count": 4,
   "metadata": {},
   "outputs": [],
   "source": [
    "\n",
    "import requests\n",
    "import pandas as pd\n",
    "\n",
    "# Replace 'YOUR_API_KEY' with your actual API key\n",
    "api_key = '7c17a88e84044c12d66273dfaed7fa39fc15b39d'\n",
    "\n",
    "# Define the API endpoint you want to query\n",
    "endpoint = 'https://api.census.gov/data/2019/abscs?get=NAME,GEO_ID,RCPSZFI,NAICS2017_LABEL,ETH_GROUP,SEX,EMPSZFI,EMP,FIRMPDEMP&for=metropolitan%20statistical%20area/micropolitan%20statistical%20area:33100&NAICS2017=00'\n",
    "\n",
    "\n",
    "# Define the parameters for your query\n",
    "\n",
    "# Send the request to the API and store the response\n",
    "response = requests.get(endpoint)\n",
    "\n",
    "# Convert the response into a pandas DataFrame\n",
    "df = pd.DataFrame.from_records(response.json()[1:], columns=response.json()[0])\n",
    "\n",
    "# Save the DataFrame to a CSV file\n",
    "df.to_csv('../assessment_8/data/census_data_miami.csv', index=False)\n"
   ]
  },
  {
   "cell_type": "code",
   "execution_count": 2,
   "metadata": {},
   "outputs": [],
   "source": [
    "import plotly.express as px\n",
    "import matplotlib.pyplot as plt\n",
    "import requests\n",
    "import pandas as pd"
   ]
  },
  {
   "cell_type": "code",
   "execution_count": 3,
   "metadata": {},
   "outputs": [
    {
     "data": {
      "text/html": [
       "<div>\n",
       "<style scoped>\n",
       "    .dataframe tbody tr th:only-of-type {\n",
       "        vertical-align: middle;\n",
       "    }\n",
       "\n",
       "    .dataframe tbody tr th {\n",
       "        vertical-align: top;\n",
       "    }\n",
       "\n",
       "    .dataframe thead th {\n",
       "        text-align: right;\n",
       "    }\n",
       "</style>\n",
       "<table border=\"1\" class=\"dataframe\">\n",
       "  <thead>\n",
       "    <tr style=\"text-align: right;\">\n",
       "      <th></th>\n",
       "      <th>NAME</th>\n",
       "      <th>GEO_ID</th>\n",
       "      <th>RCPSZFI</th>\n",
       "      <th>NAICS2017_LABEL</th>\n",
       "      <th>ETH_GROUP</th>\n",
       "      <th>SEX</th>\n",
       "      <th>EMPSZFI</th>\n",
       "      <th>EMP</th>\n",
       "      <th>FIRMPDEMP</th>\n",
       "      <th>NAICS2017</th>\n",
       "      <th>metropolitan statistical area/micropolitan statistical area</th>\n",
       "    </tr>\n",
       "  </thead>\n",
       "  <tbody>\n",
       "    <tr>\n",
       "      <th>0</th>\n",
       "      <td>Miami-Fort Lauderdale-West Palm Beach, FL Metr...</td>\n",
       "      <td>310M400US33100</td>\n",
       "      <td>1</td>\n",
       "      <td>Total for all sectors</td>\n",
       "      <td>1</td>\n",
       "      <td>1</td>\n",
       "      <td>1</td>\n",
       "      <td>2232129</td>\n",
       "      <td>171832</td>\n",
       "      <td>0</td>\n",
       "      <td>33100</td>\n",
       "    </tr>\n",
       "    <tr>\n",
       "      <th>1</th>\n",
       "      <td>Miami-Fort Lauderdale-West Palm Beach, FL Metr...</td>\n",
       "      <td>310M400US33100</td>\n",
       "      <td>1</td>\n",
       "      <td>Total for all sectors</td>\n",
       "      <td>1</td>\n",
       "      <td>1</td>\n",
       "      <td>611</td>\n",
       "      <td>0</td>\n",
       "      <td>26336</td>\n",
       "      <td>0</td>\n",
       "      <td>33100</td>\n",
       "    </tr>\n",
       "    <tr>\n",
       "      <th>2</th>\n",
       "      <td>Miami-Fort Lauderdale-West Palm Beach, FL Metr...</td>\n",
       "      <td>310M400US33100</td>\n",
       "      <td>1</td>\n",
       "      <td>Total for all sectors</td>\n",
       "      <td>1</td>\n",
       "      <td>1</td>\n",
       "      <td>612</td>\n",
       "      <td>173439</td>\n",
       "      <td>96922</td>\n",
       "      <td>0</td>\n",
       "      <td>33100</td>\n",
       "    </tr>\n",
       "    <tr>\n",
       "      <th>3</th>\n",
       "      <td>Miami-Fort Lauderdale-West Palm Beach, FL Metr...</td>\n",
       "      <td>310M400US33100</td>\n",
       "      <td>1</td>\n",
       "      <td>Total for all sectors</td>\n",
       "      <td>1</td>\n",
       "      <td>1</td>\n",
       "      <td>620</td>\n",
       "      <td>136328</td>\n",
       "      <td>20777</td>\n",
       "      <td>0</td>\n",
       "      <td>33100</td>\n",
       "    </tr>\n",
       "    <tr>\n",
       "      <th>4</th>\n",
       "      <td>Miami-Fort Lauderdale-West Palm Beach, FL Metr...</td>\n",
       "      <td>310M400US33100</td>\n",
       "      <td>1</td>\n",
       "      <td>Total for all sectors</td>\n",
       "      <td>1</td>\n",
       "      <td>1</td>\n",
       "      <td>630</td>\n",
       "      <td>160530</td>\n",
       "      <td>12216</td>\n",
       "      <td>0</td>\n",
       "      <td>33100</td>\n",
       "    </tr>\n",
       "    <tr>\n",
       "      <th>...</th>\n",
       "      <td>...</td>\n",
       "      <td>...</td>\n",
       "      <td>...</td>\n",
       "      <td>...</td>\n",
       "      <td>...</td>\n",
       "      <td>...</td>\n",
       "      <td>...</td>\n",
       "      <td>...</td>\n",
       "      <td>...</td>\n",
       "      <td>...</td>\n",
       "      <td>...</td>\n",
       "    </tr>\n",
       "    <tr>\n",
       "      <th>137</th>\n",
       "      <td>Miami-Fort Lauderdale-West Palm Beach, FL Metr...</td>\n",
       "      <td>310M400US33100</td>\n",
       "      <td>531</td>\n",
       "      <td>Total for all sectors</td>\n",
       "      <td>29</td>\n",
       "      <td>1</td>\n",
       "      <td>1</td>\n",
       "      <td>87213</td>\n",
       "      <td>18695</td>\n",
       "      <td>0</td>\n",
       "      <td>33100</td>\n",
       "    </tr>\n",
       "    <tr>\n",
       "      <th>138</th>\n",
       "      <td>Miami-Fort Lauderdale-West Palm Beach, FL Metr...</td>\n",
       "      <td>310M400US33100</td>\n",
       "      <td>532</td>\n",
       "      <td>Total for all sectors</td>\n",
       "      <td>29</td>\n",
       "      <td>1</td>\n",
       "      <td>1</td>\n",
       "      <td>708822</td>\n",
       "      <td>28908</td>\n",
       "      <td>0</td>\n",
       "      <td>33100</td>\n",
       "    </tr>\n",
       "    <tr>\n",
       "      <th>139</th>\n",
       "      <td>Miami-Fort Lauderdale-West Palm Beach, FL Metr...</td>\n",
       "      <td>310M400US33100</td>\n",
       "      <td>1</td>\n",
       "      <td>Total for all sectors</td>\n",
       "      <td>29</td>\n",
       "      <td>2</td>\n",
       "      <td>1</td>\n",
       "      <td>150218</td>\n",
       "      <td>26181</td>\n",
       "      <td>0</td>\n",
       "      <td>33100</td>\n",
       "    </tr>\n",
       "    <tr>\n",
       "      <th>140</th>\n",
       "      <td>Miami-Fort Lauderdale-West Palm Beach, FL Metr...</td>\n",
       "      <td>310M400US33100</td>\n",
       "      <td>1</td>\n",
       "      <td>Total for all sectors</td>\n",
       "      <td>29</td>\n",
       "      <td>3</td>\n",
       "      <td>1</td>\n",
       "      <td>655596</td>\n",
       "      <td>72581</td>\n",
       "      <td>0</td>\n",
       "      <td>33100</td>\n",
       "    </tr>\n",
       "    <tr>\n",
       "      <th>141</th>\n",
       "      <td>Miami-Fort Lauderdale-West Palm Beach, FL Metr...</td>\n",
       "      <td>310M400US33100</td>\n",
       "      <td>1</td>\n",
       "      <td>Total for all sectors</td>\n",
       "      <td>29</td>\n",
       "      <td>4</td>\n",
       "      <td>1</td>\n",
       "      <td>107011</td>\n",
       "      <td>15985</td>\n",
       "      <td>0</td>\n",
       "      <td>33100</td>\n",
       "    </tr>\n",
       "  </tbody>\n",
       "</table>\n",
       "<p>142 rows × 11 columns</p>\n",
       "</div>"
      ],
      "text/plain": [
       "                                                  NAME          GEO_ID   \n",
       "0    Miami-Fort Lauderdale-West Palm Beach, FL Metr...  310M400US33100  \\\n",
       "1    Miami-Fort Lauderdale-West Palm Beach, FL Metr...  310M400US33100   \n",
       "2    Miami-Fort Lauderdale-West Palm Beach, FL Metr...  310M400US33100   \n",
       "3    Miami-Fort Lauderdale-West Palm Beach, FL Metr...  310M400US33100   \n",
       "4    Miami-Fort Lauderdale-West Palm Beach, FL Metr...  310M400US33100   \n",
       "..                                                 ...             ...   \n",
       "137  Miami-Fort Lauderdale-West Palm Beach, FL Metr...  310M400US33100   \n",
       "138  Miami-Fort Lauderdale-West Palm Beach, FL Metr...  310M400US33100   \n",
       "139  Miami-Fort Lauderdale-West Palm Beach, FL Metr...  310M400US33100   \n",
       "140  Miami-Fort Lauderdale-West Palm Beach, FL Metr...  310M400US33100   \n",
       "141  Miami-Fort Lauderdale-West Palm Beach, FL Metr...  310M400US33100   \n",
       "\n",
       "     RCPSZFI        NAICS2017_LABEL  ETH_GROUP  SEX  EMPSZFI      EMP   \n",
       "0          1  Total for all sectors          1    1        1  2232129  \\\n",
       "1          1  Total for all sectors          1    1      611        0   \n",
       "2          1  Total for all sectors          1    1      612   173439   \n",
       "3          1  Total for all sectors          1    1      620   136328   \n",
       "4          1  Total for all sectors          1    1      630   160530   \n",
       "..       ...                    ...        ...  ...      ...      ...   \n",
       "137      531  Total for all sectors         29    1        1    87213   \n",
       "138      532  Total for all sectors         29    1        1   708822   \n",
       "139        1  Total for all sectors         29    2        1   150218   \n",
       "140        1  Total for all sectors         29    3        1   655596   \n",
       "141        1  Total for all sectors         29    4        1   107011   \n",
       "\n",
       "     FIRMPDEMP  NAICS2017   \n",
       "0       171832          0  \\\n",
       "1        26336          0   \n",
       "2        96922          0   \n",
       "3        20777          0   \n",
       "4        12216          0   \n",
       "..         ...        ...   \n",
       "137      18695          0   \n",
       "138      28908          0   \n",
       "139      26181          0   \n",
       "140      72581          0   \n",
       "141      15985          0   \n",
       "\n",
       "     metropolitan statistical area/micropolitan statistical area  \n",
       "0                                                33100            \n",
       "1                                                33100            \n",
       "2                                                33100            \n",
       "3                                                33100            \n",
       "4                                                33100            \n",
       "..                                                 ...            \n",
       "137                                              33100            \n",
       "138                                              33100            \n",
       "139                                              33100            \n",
       "140                                              33100            \n",
       "141                                              33100            \n",
       "\n",
       "[142 rows x 11 columns]"
      ]
     },
     "execution_count": 3,
     "metadata": {},
     "output_type": "execute_result"
    }
   ],
   "source": [
    "\n",
    "census_miami = pd.read_csv('../assessment_8/data/census_data_miami.csv')\n",
    "census_miami\n"
   ]
  },
  {
   "cell_type": "code",
   "execution_count": 4,
   "metadata": {},
   "outputs": [
    {
     "data": {
      "text/html": [
       "<div>\n",
       "<style scoped>\n",
       "    .dataframe tbody tr th:only-of-type {\n",
       "        vertical-align: middle;\n",
       "    }\n",
       "\n",
       "    .dataframe tbody tr th {\n",
       "        vertical-align: top;\n",
       "    }\n",
       "\n",
       "    .dataframe thead th {\n",
       "        text-align: right;\n",
       "    }\n",
       "</style>\n",
       "<table border=\"1\" class=\"dataframe\">\n",
       "  <thead>\n",
       "    <tr style=\"text-align: right;\">\n",
       "      <th></th>\n",
       "      <th>Municipality</th>\n",
       "      <th>GEO_ID</th>\n",
       "      <th>Firm_Sale_Amount</th>\n",
       "      <th>Ethnicity</th>\n",
       "      <th>Gender</th>\n",
       "      <th>Employee_Amount</th>\n",
       "      <th>Amount_of_Firms</th>\n",
       "    </tr>\n",
       "  </thead>\n",
       "  <tbody>\n",
       "    <tr>\n",
       "      <th>0</th>\n",
       "      <td>Miami-Fort Lauderdale-West Palm Beach, FL Metr...</td>\n",
       "      <td>310M400US33100</td>\n",
       "      <td>1</td>\n",
       "      <td>1</td>\n",
       "      <td>1</td>\n",
       "      <td>2232129</td>\n",
       "      <td>171832</td>\n",
       "    </tr>\n",
       "    <tr>\n",
       "      <th>1</th>\n",
       "      <td>Miami-Fort Lauderdale-West Palm Beach, FL Metr...</td>\n",
       "      <td>310M400US33100</td>\n",
       "      <td>1</td>\n",
       "      <td>1</td>\n",
       "      <td>1</td>\n",
       "      <td>0</td>\n",
       "      <td>26336</td>\n",
       "    </tr>\n",
       "    <tr>\n",
       "      <th>2</th>\n",
       "      <td>Miami-Fort Lauderdale-West Palm Beach, FL Metr...</td>\n",
       "      <td>310M400US33100</td>\n",
       "      <td>1</td>\n",
       "      <td>1</td>\n",
       "      <td>1</td>\n",
       "      <td>173439</td>\n",
       "      <td>96922</td>\n",
       "    </tr>\n",
       "    <tr>\n",
       "      <th>3</th>\n",
       "      <td>Miami-Fort Lauderdale-West Palm Beach, FL Metr...</td>\n",
       "      <td>310M400US33100</td>\n",
       "      <td>1</td>\n",
       "      <td>1</td>\n",
       "      <td>1</td>\n",
       "      <td>136328</td>\n",
       "      <td>20777</td>\n",
       "    </tr>\n",
       "    <tr>\n",
       "      <th>4</th>\n",
       "      <td>Miami-Fort Lauderdale-West Palm Beach, FL Metr...</td>\n",
       "      <td>310M400US33100</td>\n",
       "      <td>1</td>\n",
       "      <td>1</td>\n",
       "      <td>1</td>\n",
       "      <td>160530</td>\n",
       "      <td>12216</td>\n",
       "    </tr>\n",
       "    <tr>\n",
       "      <th>...</th>\n",
       "      <td>...</td>\n",
       "      <td>...</td>\n",
       "      <td>...</td>\n",
       "      <td>...</td>\n",
       "      <td>...</td>\n",
       "      <td>...</td>\n",
       "      <td>...</td>\n",
       "    </tr>\n",
       "    <tr>\n",
       "      <th>137</th>\n",
       "      <td>Miami-Fort Lauderdale-West Palm Beach, FL Metr...</td>\n",
       "      <td>310M400US33100</td>\n",
       "      <td>531</td>\n",
       "      <td>29</td>\n",
       "      <td>1</td>\n",
       "      <td>87213</td>\n",
       "      <td>18695</td>\n",
       "    </tr>\n",
       "    <tr>\n",
       "      <th>138</th>\n",
       "      <td>Miami-Fort Lauderdale-West Palm Beach, FL Metr...</td>\n",
       "      <td>310M400US33100</td>\n",
       "      <td>532</td>\n",
       "      <td>29</td>\n",
       "      <td>1</td>\n",
       "      <td>708822</td>\n",
       "      <td>28908</td>\n",
       "    </tr>\n",
       "    <tr>\n",
       "      <th>139</th>\n",
       "      <td>Miami-Fort Lauderdale-West Palm Beach, FL Metr...</td>\n",
       "      <td>310M400US33100</td>\n",
       "      <td>1</td>\n",
       "      <td>29</td>\n",
       "      <td>2</td>\n",
       "      <td>150218</td>\n",
       "      <td>26181</td>\n",
       "    </tr>\n",
       "    <tr>\n",
       "      <th>140</th>\n",
       "      <td>Miami-Fort Lauderdale-West Palm Beach, FL Metr...</td>\n",
       "      <td>310M400US33100</td>\n",
       "      <td>1</td>\n",
       "      <td>29</td>\n",
       "      <td>3</td>\n",
       "      <td>655596</td>\n",
       "      <td>72581</td>\n",
       "    </tr>\n",
       "    <tr>\n",
       "      <th>141</th>\n",
       "      <td>Miami-Fort Lauderdale-West Palm Beach, FL Metr...</td>\n",
       "      <td>310M400US33100</td>\n",
       "      <td>1</td>\n",
       "      <td>29</td>\n",
       "      <td>4</td>\n",
       "      <td>107011</td>\n",
       "      <td>15985</td>\n",
       "    </tr>\n",
       "  </tbody>\n",
       "</table>\n",
       "<p>142 rows × 7 columns</p>\n",
       "</div>"
      ],
      "text/plain": [
       "                                          Municipality          GEO_ID   \n",
       "0    Miami-Fort Lauderdale-West Palm Beach, FL Metr...  310M400US33100  \\\n",
       "1    Miami-Fort Lauderdale-West Palm Beach, FL Metr...  310M400US33100   \n",
       "2    Miami-Fort Lauderdale-West Palm Beach, FL Metr...  310M400US33100   \n",
       "3    Miami-Fort Lauderdale-West Palm Beach, FL Metr...  310M400US33100   \n",
       "4    Miami-Fort Lauderdale-West Palm Beach, FL Metr...  310M400US33100   \n",
       "..                                                 ...             ...   \n",
       "137  Miami-Fort Lauderdale-West Palm Beach, FL Metr...  310M400US33100   \n",
       "138  Miami-Fort Lauderdale-West Palm Beach, FL Metr...  310M400US33100   \n",
       "139  Miami-Fort Lauderdale-West Palm Beach, FL Metr...  310M400US33100   \n",
       "140  Miami-Fort Lauderdale-West Palm Beach, FL Metr...  310M400US33100   \n",
       "141  Miami-Fort Lauderdale-West Palm Beach, FL Metr...  310M400US33100   \n",
       "\n",
       "     Firm_Sale_Amount  Ethnicity  Gender  Employee_Amount  Amount_of_Firms  \n",
       "0                   1          1       1          2232129           171832  \n",
       "1                   1          1       1                0            26336  \n",
       "2                   1          1       1           173439            96922  \n",
       "3                   1          1       1           136328            20777  \n",
       "4                   1          1       1           160530            12216  \n",
       "..                ...        ...     ...              ...              ...  \n",
       "137               531         29       1            87213            18695  \n",
       "138               532         29       1           708822            28908  \n",
       "139                 1         29       2           150218            26181  \n",
       "140                 1         29       3           655596            72581  \n",
       "141                 1         29       4           107011            15985  \n",
       "\n",
       "[142 rows x 7 columns]"
      ]
     },
     "execution_count": 4,
     "metadata": {},
     "output_type": "execute_result"
    }
   ],
   "source": [
    "one = census_miami.rename(columns={'NAME':'Municipality', 'RCPSZFI': 'Firm_Sale_Amount', 'ETH_GROUP' : 'Ethnicity', 'SEX': 'Gender',\n",
    "                             'EMPSZFI': 'Firm_Employee_Size', 'EMP': 'Employee_Amount', 'FIRMPDEMP': 'Amount_of_Firms'})\n",
    "\n",
    "two = one.drop(['NAICS2017_LABEL', 'NAICS2017', 'metropolitan statistical area/micropolitan statistical area', 'Firm_Employee_Size'], axis=1)\n",
    "two"
   ]
  },
  {
   "cell_type": "code",
   "execution_count": 5,
   "metadata": {},
   "outputs": [],
   "source": [
    "new = two.loc[:,'Firm_Sale_Amount'] = two['Firm_Sale_Amount'].astype(str).replace({'511': 'Less than $5,000', '518': '$5,000,$9,000', '531': '$500,000-$999,999', '519' : ' $10,000-$24,999', '521': '$25,000-$49,999', '522' : '$50,000-$99,999', '523': '$100,000-$249,999',\n",
    "'525': '$250,000 to $499,999', '532': ' $1,000,000 or more' })"
   ]
  },
  {
   "cell_type": "code",
   "execution_count": 6,
   "metadata": {},
   "outputs": [],
   "source": [
    "three = (two\n",
    "    .replace({'Gender':{1: 'Total'}})\n",
    "    .replace({'Gender':{2: 'Female'}})\n",
    "    .replace({'Gender':{3: 'Male'}})\n",
    "    .replace({'Gender':{4: 'Equally male/female'}})\n",
    "    .replace({'Gender':{96: 'Classified'}})\n",
    "    .replace({'Gender':{98: 'Unclassificable'}})\n",
    "    .replace({'Ethnicity':{ 1 : 'Total'}})\n",
    "    .replace({'Ethnicity':{20: 'Hispanic'}})\n",
    "    .replace({'Ethnicity':{28: 'Equally Hispanic/non-Hispanic'}})\n",
    "    .replace({'Ethnicity':{29: 'Non-Hispanic'}})\n",
    "    .replace({'Ethnicity':{96: 'Classifiable'}})\n",
    "    .replace({'Ethnicity':{98: 'Unclassifiable'}})\n",
    ")\n"
   ]
  },
  {
   "cell_type": "code",
   "execution_count": 7,
   "metadata": {},
   "outputs": [
    {
     "data": {
      "text/html": [
       "<div>\n",
       "<style scoped>\n",
       "    .dataframe tbody tr th:only-of-type {\n",
       "        vertical-align: middle;\n",
       "    }\n",
       "\n",
       "    .dataframe tbody tr th {\n",
       "        vertical-align: top;\n",
       "    }\n",
       "\n",
       "    .dataframe thead th {\n",
       "        text-align: right;\n",
       "    }\n",
       "</style>\n",
       "<table border=\"1\" class=\"dataframe\">\n",
       "  <thead>\n",
       "    <tr style=\"text-align: right;\">\n",
       "      <th></th>\n",
       "      <th>Municipality</th>\n",
       "      <th>GEO_ID</th>\n",
       "      <th>Firm_Sale_Amount</th>\n",
       "      <th>Ethnicity</th>\n",
       "      <th>Gender</th>\n",
       "      <th>Employee_Amount</th>\n",
       "      <th>Amount_of_Firms</th>\n",
       "    </tr>\n",
       "  </thead>\n",
       "  <tbody>\n",
       "    <tr>\n",
       "      <th>0</th>\n",
       "      <td>Miami-Fort Lauderdale-West Palm Beach, FL Metr...</td>\n",
       "      <td>310M400US33100</td>\n",
       "      <td>1</td>\n",
       "      <td>Total</td>\n",
       "      <td>Total</td>\n",
       "      <td>2232129</td>\n",
       "      <td>171832</td>\n",
       "    </tr>\n",
       "    <tr>\n",
       "      <th>1</th>\n",
       "      <td>Miami-Fort Lauderdale-West Palm Beach, FL Metr...</td>\n",
       "      <td>310M400US33100</td>\n",
       "      <td>1</td>\n",
       "      <td>Total</td>\n",
       "      <td>Total</td>\n",
       "      <td>0</td>\n",
       "      <td>26336</td>\n",
       "    </tr>\n",
       "    <tr>\n",
       "      <th>2</th>\n",
       "      <td>Miami-Fort Lauderdale-West Palm Beach, FL Metr...</td>\n",
       "      <td>310M400US33100</td>\n",
       "      <td>1</td>\n",
       "      <td>Total</td>\n",
       "      <td>Total</td>\n",
       "      <td>173439</td>\n",
       "      <td>96922</td>\n",
       "    </tr>\n",
       "    <tr>\n",
       "      <th>3</th>\n",
       "      <td>Miami-Fort Lauderdale-West Palm Beach, FL Metr...</td>\n",
       "      <td>310M400US33100</td>\n",
       "      <td>1</td>\n",
       "      <td>Total</td>\n",
       "      <td>Total</td>\n",
       "      <td>136328</td>\n",
       "      <td>20777</td>\n",
       "    </tr>\n",
       "    <tr>\n",
       "      <th>4</th>\n",
       "      <td>Miami-Fort Lauderdale-West Palm Beach, FL Metr...</td>\n",
       "      <td>310M400US33100</td>\n",
       "      <td>1</td>\n",
       "      <td>Total</td>\n",
       "      <td>Total</td>\n",
       "      <td>160530</td>\n",
       "      <td>12216</td>\n",
       "    </tr>\n",
       "    <tr>\n",
       "      <th>...</th>\n",
       "      <td>...</td>\n",
       "      <td>...</td>\n",
       "      <td>...</td>\n",
       "      <td>...</td>\n",
       "      <td>...</td>\n",
       "      <td>...</td>\n",
       "      <td>...</td>\n",
       "    </tr>\n",
       "    <tr>\n",
       "      <th>137</th>\n",
       "      <td>Miami-Fort Lauderdale-West Palm Beach, FL Metr...</td>\n",
       "      <td>310M400US33100</td>\n",
       "      <td>$500,000-$999,999</td>\n",
       "      <td>Non-Hispanic</td>\n",
       "      <td>Total</td>\n",
       "      <td>87213</td>\n",
       "      <td>18695</td>\n",
       "    </tr>\n",
       "    <tr>\n",
       "      <th>138</th>\n",
       "      <td>Miami-Fort Lauderdale-West Palm Beach, FL Metr...</td>\n",
       "      <td>310M400US33100</td>\n",
       "      <td>$1,000,000 or more</td>\n",
       "      <td>Non-Hispanic</td>\n",
       "      <td>Total</td>\n",
       "      <td>708822</td>\n",
       "      <td>28908</td>\n",
       "    </tr>\n",
       "    <tr>\n",
       "      <th>139</th>\n",
       "      <td>Miami-Fort Lauderdale-West Palm Beach, FL Metr...</td>\n",
       "      <td>310M400US33100</td>\n",
       "      <td>1</td>\n",
       "      <td>Non-Hispanic</td>\n",
       "      <td>Female</td>\n",
       "      <td>150218</td>\n",
       "      <td>26181</td>\n",
       "    </tr>\n",
       "    <tr>\n",
       "      <th>140</th>\n",
       "      <td>Miami-Fort Lauderdale-West Palm Beach, FL Metr...</td>\n",
       "      <td>310M400US33100</td>\n",
       "      <td>1</td>\n",
       "      <td>Non-Hispanic</td>\n",
       "      <td>Male</td>\n",
       "      <td>655596</td>\n",
       "      <td>72581</td>\n",
       "    </tr>\n",
       "    <tr>\n",
       "      <th>141</th>\n",
       "      <td>Miami-Fort Lauderdale-West Palm Beach, FL Metr...</td>\n",
       "      <td>310M400US33100</td>\n",
       "      <td>1</td>\n",
       "      <td>Non-Hispanic</td>\n",
       "      <td>Equally male/female</td>\n",
       "      <td>107011</td>\n",
       "      <td>15985</td>\n",
       "    </tr>\n",
       "  </tbody>\n",
       "</table>\n",
       "<p>142 rows × 7 columns</p>\n",
       "</div>"
      ],
      "text/plain": [
       "                                          Municipality          GEO_ID   \n",
       "0    Miami-Fort Lauderdale-West Palm Beach, FL Metr...  310M400US33100  \\\n",
       "1    Miami-Fort Lauderdale-West Palm Beach, FL Metr...  310M400US33100   \n",
       "2    Miami-Fort Lauderdale-West Palm Beach, FL Metr...  310M400US33100   \n",
       "3    Miami-Fort Lauderdale-West Palm Beach, FL Metr...  310M400US33100   \n",
       "4    Miami-Fort Lauderdale-West Palm Beach, FL Metr...  310M400US33100   \n",
       "..                                                 ...             ...   \n",
       "137  Miami-Fort Lauderdale-West Palm Beach, FL Metr...  310M400US33100   \n",
       "138  Miami-Fort Lauderdale-West Palm Beach, FL Metr...  310M400US33100   \n",
       "139  Miami-Fort Lauderdale-West Palm Beach, FL Metr...  310M400US33100   \n",
       "140  Miami-Fort Lauderdale-West Palm Beach, FL Metr...  310M400US33100   \n",
       "141  Miami-Fort Lauderdale-West Palm Beach, FL Metr...  310M400US33100   \n",
       "\n",
       "        Firm_Sale_Amount     Ethnicity               Gender  Employee_Amount   \n",
       "0                      1         Total                Total          2232129  \\\n",
       "1                      1         Total                Total                0   \n",
       "2                      1         Total                Total           173439   \n",
       "3                      1         Total                Total           136328   \n",
       "4                      1         Total                Total           160530   \n",
       "..                   ...           ...                  ...              ...   \n",
       "137    $500,000-$999,999  Non-Hispanic                Total            87213   \n",
       "138   $1,000,000 or more  Non-Hispanic                Total           708822   \n",
       "139                    1  Non-Hispanic               Female           150218   \n",
       "140                    1  Non-Hispanic                 Male           655596   \n",
       "141                    1  Non-Hispanic  Equally male/female           107011   \n",
       "\n",
       "     Amount_of_Firms  \n",
       "0             171832  \n",
       "1              26336  \n",
       "2              96922  \n",
       "3              20777  \n",
       "4              12216  \n",
       "..               ...  \n",
       "137            18695  \n",
       "138            28908  \n",
       "139            26181  \n",
       "140            72581  \n",
       "141            15985  \n",
       "\n",
       "[142 rows x 7 columns]"
      ]
     },
     "execution_count": 7,
     "metadata": {},
     "output_type": "execute_result"
    }
   ],
   "source": [
    "three"
   ]
  },
  {
   "cell_type": "code",
   "execution_count": 8,
   "metadata": {},
   "outputs": [],
   "source": [
    "final_miami = three.drop(three[three['Firm_Sale_Amount'] == '1'].index)\n"
   ]
  },
  {
   "cell_type": "code",
   "execution_count": 9,
   "metadata": {},
   "outputs": [
    {
     "data": {
      "text/html": [
       "<div>\n",
       "<style scoped>\n",
       "    .dataframe tbody tr th:only-of-type {\n",
       "        vertical-align: middle;\n",
       "    }\n",
       "\n",
       "    .dataframe tbody tr th {\n",
       "        vertical-align: top;\n",
       "    }\n",
       "\n",
       "    .dataframe thead th {\n",
       "        text-align: right;\n",
       "    }\n",
       "</style>\n",
       "<table border=\"1\" class=\"dataframe\">\n",
       "  <thead>\n",
       "    <tr style=\"text-align: right;\">\n",
       "      <th></th>\n",
       "      <th>Municipality</th>\n",
       "      <th>GEO_ID</th>\n",
       "      <th>Firm_Sale_Amount</th>\n",
       "      <th>Ethnicity</th>\n",
       "      <th>Gender</th>\n",
       "      <th>Employee_Amount</th>\n",
       "      <th>Amount_of_Firms</th>\n",
       "    </tr>\n",
       "  </thead>\n",
       "  <tbody>\n",
       "    <tr>\n",
       "      <th>10</th>\n",
       "      <td>Miami-Fort Lauderdale-West Palm Beach, FL Metr...</td>\n",
       "      <td>310M400US33100</td>\n",
       "      <td>Less than $5,000</td>\n",
       "      <td>Total</td>\n",
       "      <td>Total</td>\n",
       "      <td>2152</td>\n",
       "      <td>1233</td>\n",
       "    </tr>\n",
       "    <tr>\n",
       "      <th>11</th>\n",
       "      <td>Miami-Fort Lauderdale-West Palm Beach, FL Metr...</td>\n",
       "      <td>310M400US33100</td>\n",
       "      <td>$5,000,$9,000</td>\n",
       "      <td>Total</td>\n",
       "      <td>Total</td>\n",
       "      <td>527</td>\n",
       "      <td>1115</td>\n",
       "    </tr>\n",
       "    <tr>\n",
       "      <th>12</th>\n",
       "      <td>Miami-Fort Lauderdale-West Palm Beach, FL Metr...</td>\n",
       "      <td>310M400US33100</td>\n",
       "      <td>$10,000-$24,999</td>\n",
       "      <td>Total</td>\n",
       "      <td>Total</td>\n",
       "      <td>10489</td>\n",
       "      <td>4375</td>\n",
       "    </tr>\n",
       "    <tr>\n",
       "      <th>13</th>\n",
       "      <td>Miami-Fort Lauderdale-West Palm Beach, FL Metr...</td>\n",
       "      <td>310M400US33100</td>\n",
       "      <td>$25,000-$49,999</td>\n",
       "      <td>Total</td>\n",
       "      <td>Total</td>\n",
       "      <td>10405</td>\n",
       "      <td>8950</td>\n",
       "    </tr>\n",
       "    <tr>\n",
       "      <th>14</th>\n",
       "      <td>Miami-Fort Lauderdale-West Palm Beach, FL Metr...</td>\n",
       "      <td>310M400US33100</td>\n",
       "      <td>$50,000-$99,999</td>\n",
       "      <td>Total</td>\n",
       "      <td>Total</td>\n",
       "      <td>18500</td>\n",
       "      <td>17632</td>\n",
       "    </tr>\n",
       "    <tr>\n",
       "      <th>...</th>\n",
       "      <td>...</td>\n",
       "      <td>...</td>\n",
       "      <td>...</td>\n",
       "      <td>...</td>\n",
       "      <td>...</td>\n",
       "      <td>...</td>\n",
       "      <td>...</td>\n",
       "    </tr>\n",
       "    <tr>\n",
       "      <th>134</th>\n",
       "      <td>Miami-Fort Lauderdale-West Palm Beach, FL Metr...</td>\n",
       "      <td>310M400US33100</td>\n",
       "      <td>$50,000-$99,999</td>\n",
       "      <td>Non-Hispanic</td>\n",
       "      <td>Total</td>\n",
       "      <td>11835</td>\n",
       "      <td>11540</td>\n",
       "    </tr>\n",
       "    <tr>\n",
       "      <th>135</th>\n",
       "      <td>Miami-Fort Lauderdale-West Palm Beach, FL Metr...</td>\n",
       "      <td>310M400US33100</td>\n",
       "      <td>$100,000-$249,999</td>\n",
       "      <td>Non-Hispanic</td>\n",
       "      <td>Total</td>\n",
       "      <td>33058</td>\n",
       "      <td>23576</td>\n",
       "    </tr>\n",
       "    <tr>\n",
       "      <th>136</th>\n",
       "      <td>Miami-Fort Lauderdale-West Palm Beach, FL Metr...</td>\n",
       "      <td>310M400US33100</td>\n",
       "      <td>$250,000 to $499,999</td>\n",
       "      <td>Non-Hispanic</td>\n",
       "      <td>Total</td>\n",
       "      <td>53505</td>\n",
       "      <td>21312</td>\n",
       "    </tr>\n",
       "    <tr>\n",
       "      <th>137</th>\n",
       "      <td>Miami-Fort Lauderdale-West Palm Beach, FL Metr...</td>\n",
       "      <td>310M400US33100</td>\n",
       "      <td>$500,000-$999,999</td>\n",
       "      <td>Non-Hispanic</td>\n",
       "      <td>Total</td>\n",
       "      <td>87213</td>\n",
       "      <td>18695</td>\n",
       "    </tr>\n",
       "    <tr>\n",
       "      <th>138</th>\n",
       "      <td>Miami-Fort Lauderdale-West Palm Beach, FL Metr...</td>\n",
       "      <td>310M400US33100</td>\n",
       "      <td>$1,000,000 or more</td>\n",
       "      <td>Non-Hispanic</td>\n",
       "      <td>Total</td>\n",
       "      <td>708822</td>\n",
       "      <td>28908</td>\n",
       "    </tr>\n",
       "  </tbody>\n",
       "</table>\n",
       "<p>63 rows × 7 columns</p>\n",
       "</div>"
      ],
      "text/plain": [
       "                                          Municipality          GEO_ID   \n",
       "10   Miami-Fort Lauderdale-West Palm Beach, FL Metr...  310M400US33100  \\\n",
       "11   Miami-Fort Lauderdale-West Palm Beach, FL Metr...  310M400US33100   \n",
       "12   Miami-Fort Lauderdale-West Palm Beach, FL Metr...  310M400US33100   \n",
       "13   Miami-Fort Lauderdale-West Palm Beach, FL Metr...  310M400US33100   \n",
       "14   Miami-Fort Lauderdale-West Palm Beach, FL Metr...  310M400US33100   \n",
       "..                                                 ...             ...   \n",
       "134  Miami-Fort Lauderdale-West Palm Beach, FL Metr...  310M400US33100   \n",
       "135  Miami-Fort Lauderdale-West Palm Beach, FL Metr...  310M400US33100   \n",
       "136  Miami-Fort Lauderdale-West Palm Beach, FL Metr...  310M400US33100   \n",
       "137  Miami-Fort Lauderdale-West Palm Beach, FL Metr...  310M400US33100   \n",
       "138  Miami-Fort Lauderdale-West Palm Beach, FL Metr...  310M400US33100   \n",
       "\n",
       "         Firm_Sale_Amount     Ethnicity Gender  Employee_Amount   \n",
       "10       Less than $5,000         Total  Total             2152  \\\n",
       "11          $5,000,$9,000         Total  Total              527   \n",
       "12        $10,000-$24,999         Total  Total            10489   \n",
       "13        $25,000-$49,999         Total  Total            10405   \n",
       "14        $50,000-$99,999         Total  Total            18500   \n",
       "..                    ...           ...    ...              ...   \n",
       "134       $50,000-$99,999  Non-Hispanic  Total            11835   \n",
       "135     $100,000-$249,999  Non-Hispanic  Total            33058   \n",
       "136  $250,000 to $499,999  Non-Hispanic  Total            53505   \n",
       "137     $500,000-$999,999  Non-Hispanic  Total            87213   \n",
       "138    $1,000,000 or more  Non-Hispanic  Total           708822   \n",
       "\n",
       "     Amount_of_Firms  \n",
       "10              1233  \n",
       "11              1115  \n",
       "12              4375  \n",
       "13              8950  \n",
       "14             17632  \n",
       "..               ...  \n",
       "134            11540  \n",
       "135            23576  \n",
       "136            21312  \n",
       "137            18695  \n",
       "138            28908  \n",
       "\n",
       "[63 rows x 7 columns]"
      ]
     },
     "execution_count": 9,
     "metadata": {},
     "output_type": "execute_result"
    }
   ],
   "source": [
    "final_miami"
   ]
  },
  {
   "cell_type": "code",
   "execution_count": 10,
   "metadata": {},
   "outputs": [
    {
     "data": {
      "text/html": [
       "<div>\n",
       "<style scoped>\n",
       "    .dataframe tbody tr th:only-of-type {\n",
       "        vertical-align: middle;\n",
       "    }\n",
       "\n",
       "    .dataframe tbody tr th {\n",
       "        vertical-align: top;\n",
       "    }\n",
       "\n",
       "    .dataframe thead th {\n",
       "        text-align: right;\n",
       "    }\n",
       "</style>\n",
       "<table border=\"1\" class=\"dataframe\">\n",
       "  <thead>\n",
       "    <tr style=\"text-align: right;\">\n",
       "      <th></th>\n",
       "      <th>Municipality</th>\n",
       "      <th>GEO_ID</th>\n",
       "      <th>Firm_Sale_Amount</th>\n",
       "      <th>Ethnicity</th>\n",
       "      <th>Gender</th>\n",
       "      <th>Employee_Amount</th>\n",
       "      <th>Amount_of_Firms</th>\n",
       "      <th>State</th>\n",
       "    </tr>\n",
       "  </thead>\n",
       "  <tbody>\n",
       "    <tr>\n",
       "      <th>10</th>\n",
       "      <td>Miami-Fort Lauderdale-West Palm Beach, FL Metr...</td>\n",
       "      <td>310M400US33100</td>\n",
       "      <td>Less than $5,000</td>\n",
       "      <td>Total</td>\n",
       "      <td>Total</td>\n",
       "      <td>2152</td>\n",
       "      <td>1233</td>\n",
       "      <td>Florida</td>\n",
       "    </tr>\n",
       "    <tr>\n",
       "      <th>11</th>\n",
       "      <td>Miami-Fort Lauderdale-West Palm Beach, FL Metr...</td>\n",
       "      <td>310M400US33100</td>\n",
       "      <td>$5,000,$9,000</td>\n",
       "      <td>Total</td>\n",
       "      <td>Total</td>\n",
       "      <td>527</td>\n",
       "      <td>1115</td>\n",
       "      <td>Florida</td>\n",
       "    </tr>\n",
       "    <tr>\n",
       "      <th>12</th>\n",
       "      <td>Miami-Fort Lauderdale-West Palm Beach, FL Metr...</td>\n",
       "      <td>310M400US33100</td>\n",
       "      <td>$10,000-$24,999</td>\n",
       "      <td>Total</td>\n",
       "      <td>Total</td>\n",
       "      <td>10489</td>\n",
       "      <td>4375</td>\n",
       "      <td>Florida</td>\n",
       "    </tr>\n",
       "    <tr>\n",
       "      <th>13</th>\n",
       "      <td>Miami-Fort Lauderdale-West Palm Beach, FL Metr...</td>\n",
       "      <td>310M400US33100</td>\n",
       "      <td>$25,000-$49,999</td>\n",
       "      <td>Total</td>\n",
       "      <td>Total</td>\n",
       "      <td>10405</td>\n",
       "      <td>8950</td>\n",
       "      <td>Florida</td>\n",
       "    </tr>\n",
       "    <tr>\n",
       "      <th>14</th>\n",
       "      <td>Miami-Fort Lauderdale-West Palm Beach, FL Metr...</td>\n",
       "      <td>310M400US33100</td>\n",
       "      <td>$50,000-$99,999</td>\n",
       "      <td>Total</td>\n",
       "      <td>Total</td>\n",
       "      <td>18500</td>\n",
       "      <td>17632</td>\n",
       "      <td>Florida</td>\n",
       "    </tr>\n",
       "    <tr>\n",
       "      <th>15</th>\n",
       "      <td>Miami-Fort Lauderdale-West Palm Beach, FL Metr...</td>\n",
       "      <td>310M400US33100</td>\n",
       "      <td>$100,000-$249,999</td>\n",
       "      <td>Total</td>\n",
       "      <td>Total</td>\n",
       "      <td>51501</td>\n",
       "      <td>35846</td>\n",
       "      <td>Florida</td>\n",
       "    </tr>\n",
       "    <tr>\n",
       "      <th>16</th>\n",
       "      <td>Miami-Fort Lauderdale-West Palm Beach, FL Metr...</td>\n",
       "      <td>310M400US33100</td>\n",
       "      <td>$250,000 to $499,999</td>\n",
       "      <td>Total</td>\n",
       "      <td>Total</td>\n",
       "      <td>79973</td>\n",
       "      <td>31088</td>\n",
       "      <td>Florida</td>\n",
       "    </tr>\n",
       "    <tr>\n",
       "      <th>17</th>\n",
       "      <td>Miami-Fort Lauderdale-West Palm Beach, FL Metr...</td>\n",
       "      <td>310M400US33100</td>\n",
       "      <td>$500,000-$999,999</td>\n",
       "      <td>Total</td>\n",
       "      <td>Total</td>\n",
       "      <td>131663</td>\n",
       "      <td>27422</td>\n",
       "      <td>Florida</td>\n",
       "    </tr>\n",
       "    <tr>\n",
       "      <th>18</th>\n",
       "      <td>Miami-Fort Lauderdale-West Palm Beach, FL Metr...</td>\n",
       "      <td>310M400US33100</td>\n",
       "      <td>$1,000,000 or more</td>\n",
       "      <td>Total</td>\n",
       "      <td>Total</td>\n",
       "      <td>1926920</td>\n",
       "      <td>44173</td>\n",
       "      <td>Florida</td>\n",
       "    </tr>\n",
       "    <tr>\n",
       "      <th>29</th>\n",
       "      <td>Miami-Fort Lauderdale-West Palm Beach, FL Metr...</td>\n",
       "      <td>310M400US33100</td>\n",
       "      <td>Less than $5,000</td>\n",
       "      <td>Total</td>\n",
       "      <td>Female</td>\n",
       "      <td>0</td>\n",
       "      <td>0</td>\n",
       "      <td>Florida</td>\n",
       "    </tr>\n",
       "    <tr>\n",
       "      <th>30</th>\n",
       "      <td>Miami-Fort Lauderdale-West Palm Beach, FL Metr...</td>\n",
       "      <td>310M400US33100</td>\n",
       "      <td>$5,000,$9,000</td>\n",
       "      <td>Total</td>\n",
       "      <td>Female</td>\n",
       "      <td>143</td>\n",
       "      <td>291</td>\n",
       "      <td>Florida</td>\n",
       "    </tr>\n",
       "    <tr>\n",
       "      <th>31</th>\n",
       "      <td>Miami-Fort Lauderdale-West Palm Beach, FL Metr...</td>\n",
       "      <td>310M400US33100</td>\n",
       "      <td>$10,000-$24,999</td>\n",
       "      <td>Total</td>\n",
       "      <td>Female</td>\n",
       "      <td>1036</td>\n",
       "      <td>1139</td>\n",
       "      <td>Florida</td>\n",
       "    </tr>\n",
       "    <tr>\n",
       "      <th>32</th>\n",
       "      <td>Miami-Fort Lauderdale-West Palm Beach, FL Metr...</td>\n",
       "      <td>310M400US33100</td>\n",
       "      <td>$25,000-$49,999</td>\n",
       "      <td>Total</td>\n",
       "      <td>Female</td>\n",
       "      <td>2348</td>\n",
       "      <td>2495</td>\n",
       "      <td>Florida</td>\n",
       "    </tr>\n",
       "    <tr>\n",
       "      <th>33</th>\n",
       "      <td>Miami-Fort Lauderdale-West Palm Beach, FL Metr...</td>\n",
       "      <td>310M400US33100</td>\n",
       "      <td>$50,000-$99,999</td>\n",
       "      <td>Total</td>\n",
       "      <td>Female</td>\n",
       "      <td>5591</td>\n",
       "      <td>5443</td>\n",
       "      <td>Florida</td>\n",
       "    </tr>\n",
       "    <tr>\n",
       "      <th>34</th>\n",
       "      <td>Miami-Fort Lauderdale-West Palm Beach, FL Metr...</td>\n",
       "      <td>310M400US33100</td>\n",
       "      <td>$100,000-$249,999</td>\n",
       "      <td>Total</td>\n",
       "      <td>Female</td>\n",
       "      <td>14067</td>\n",
       "      <td>9747</td>\n",
       "      <td>Florida</td>\n",
       "    </tr>\n",
       "    <tr>\n",
       "      <th>35</th>\n",
       "      <td>Miami-Fort Lauderdale-West Palm Beach, FL Metr...</td>\n",
       "      <td>310M400US33100</td>\n",
       "      <td>$250,000 to $499,999</td>\n",
       "      <td>Total</td>\n",
       "      <td>Female</td>\n",
       "      <td>18579</td>\n",
       "      <td>6877</td>\n",
       "      <td>Florida</td>\n",
       "    </tr>\n",
       "    <tr>\n",
       "      <th>36</th>\n",
       "      <td>Miami-Fort Lauderdale-West Palm Beach, FL Metr...</td>\n",
       "      <td>310M400US33100</td>\n",
       "      <td>$500,000-$999,999</td>\n",
       "      <td>Total</td>\n",
       "      <td>Female</td>\n",
       "      <td>27227</td>\n",
       "      <td>5469</td>\n",
       "      <td>Florida</td>\n",
       "    </tr>\n",
       "    <tr>\n",
       "      <th>37</th>\n",
       "      <td>Miami-Fort Lauderdale-West Palm Beach, FL Metr...</td>\n",
       "      <td>310M400US33100</td>\n",
       "      <td>$1,000,000 or more</td>\n",
       "      <td>Total</td>\n",
       "      <td>Female</td>\n",
       "      <td>144067</td>\n",
       "      <td>7837</td>\n",
       "      <td>Florida</td>\n",
       "    </tr>\n",
       "    <tr>\n",
       "      <th>48</th>\n",
       "      <td>Miami-Fort Lauderdale-West Palm Beach, FL Metr...</td>\n",
       "      <td>310M400US33100</td>\n",
       "      <td>Less than $5,000</td>\n",
       "      <td>Total</td>\n",
       "      <td>Male</td>\n",
       "      <td>1028</td>\n",
       "      <td>775</td>\n",
       "      <td>Florida</td>\n",
       "    </tr>\n",
       "    <tr>\n",
       "      <th>49</th>\n",
       "      <td>Miami-Fort Lauderdale-West Palm Beach, FL Metr...</td>\n",
       "      <td>310M400US33100</td>\n",
       "      <td>$5,000,$9,000</td>\n",
       "      <td>Total</td>\n",
       "      <td>Male</td>\n",
       "      <td>339</td>\n",
       "      <td>661</td>\n",
       "      <td>Florida</td>\n",
       "    </tr>\n",
       "    <tr>\n",
       "      <th>50</th>\n",
       "      <td>Miami-Fort Lauderdale-West Palm Beach, FL Metr...</td>\n",
       "      <td>310M400US33100</td>\n",
       "      <td>$10,000-$24,999</td>\n",
       "      <td>Total</td>\n",
       "      <td>Male</td>\n",
       "      <td>8676</td>\n",
       "      <td>2641</td>\n",
       "      <td>Florida</td>\n",
       "    </tr>\n",
       "    <tr>\n",
       "      <th>51</th>\n",
       "      <td>Miami-Fort Lauderdale-West Palm Beach, FL Metr...</td>\n",
       "      <td>310M400US33100</td>\n",
       "      <td>$25,000-$49,999</td>\n",
       "      <td>Total</td>\n",
       "      <td>Male</td>\n",
       "      <td>6167</td>\n",
       "      <td>4871</td>\n",
       "      <td>Florida</td>\n",
       "    </tr>\n",
       "    <tr>\n",
       "      <th>52</th>\n",
       "      <td>Miami-Fort Lauderdale-West Palm Beach, FL Metr...</td>\n",
       "      <td>310M400US33100</td>\n",
       "      <td>$50,000-$99,999</td>\n",
       "      <td>Total</td>\n",
       "      <td>Male</td>\n",
       "      <td>9515</td>\n",
       "      <td>9104</td>\n",
       "      <td>Florida</td>\n",
       "    </tr>\n",
       "    <tr>\n",
       "      <th>53</th>\n",
       "      <td>Miami-Fort Lauderdale-West Palm Beach, FL Metr...</td>\n",
       "      <td>310M400US33100</td>\n",
       "      <td>$100,000-$249,999</td>\n",
       "      <td>Total</td>\n",
       "      <td>Male</td>\n",
       "      <td>29396</td>\n",
       "      <td>20485</td>\n",
       "      <td>Florida</td>\n",
       "    </tr>\n",
       "    <tr>\n",
       "      <th>54</th>\n",
       "      <td>Miami-Fort Lauderdale-West Palm Beach, FL Metr...</td>\n",
       "      <td>310M400US33100</td>\n",
       "      <td>$250,000 to $499,999</td>\n",
       "      <td>Total</td>\n",
       "      <td>Male</td>\n",
       "      <td>47264</td>\n",
       "      <td>19283</td>\n",
       "      <td>Florida</td>\n",
       "    </tr>\n",
       "    <tr>\n",
       "      <th>55</th>\n",
       "      <td>Miami-Fort Lauderdale-West Palm Beach, FL Metr...</td>\n",
       "      <td>310M400US33100</td>\n",
       "      <td>$500,000-$999,999</td>\n",
       "      <td>Total</td>\n",
       "      <td>Male</td>\n",
       "      <td>77572</td>\n",
       "      <td>17139</td>\n",
       "      <td>Florida</td>\n",
       "    </tr>\n",
       "    <tr>\n",
       "      <th>56</th>\n",
       "      <td>Miami-Fort Lauderdale-West Palm Beach, FL Metr...</td>\n",
       "      <td>310M400US33100</td>\n",
       "      <td>$1,000,000 or more</td>\n",
       "      <td>Total</td>\n",
       "      <td>Male</td>\n",
       "      <td>680013</td>\n",
       "      <td>26192</td>\n",
       "      <td>Florida</td>\n",
       "    </tr>\n",
       "    <tr>\n",
       "      <th>67</th>\n",
       "      <td>Miami-Fort Lauderdale-West Palm Beach, FL Metr...</td>\n",
       "      <td>310M400US33100</td>\n",
       "      <td>Less than $5,000</td>\n",
       "      <td>Total</td>\n",
       "      <td>Equally male/female</td>\n",
       "      <td>0</td>\n",
       "      <td>0</td>\n",
       "      <td>Florida</td>\n",
       "    </tr>\n",
       "    <tr>\n",
       "      <th>68</th>\n",
       "      <td>Miami-Fort Lauderdale-West Palm Beach, FL Metr...</td>\n",
       "      <td>310M400US33100</td>\n",
       "      <td>$5,000,$9,000</td>\n",
       "      <td>Total</td>\n",
       "      <td>Equally male/female</td>\n",
       "      <td>0</td>\n",
       "      <td>0</td>\n",
       "      <td>Florida</td>\n",
       "    </tr>\n",
       "    <tr>\n",
       "      <th>69</th>\n",
       "      <td>Miami-Fort Lauderdale-West Palm Beach, FL Metr...</td>\n",
       "      <td>310M400US33100</td>\n",
       "      <td>$10,000-$24,999</td>\n",
       "      <td>Total</td>\n",
       "      <td>Equally male/female</td>\n",
       "      <td>185</td>\n",
       "      <td>587</td>\n",
       "      <td>Florida</td>\n",
       "    </tr>\n",
       "    <tr>\n",
       "      <th>70</th>\n",
       "      <td>Miami-Fort Lauderdale-West Palm Beach, FL Metr...</td>\n",
       "      <td>310M400US33100</td>\n",
       "      <td>$25,000-$49,999</td>\n",
       "      <td>Total</td>\n",
       "      <td>Equally male/female</td>\n",
       "      <td>1858</td>\n",
       "      <td>1560</td>\n",
       "      <td>Florida</td>\n",
       "    </tr>\n",
       "    <tr>\n",
       "      <th>71</th>\n",
       "      <td>Miami-Fort Lauderdale-West Palm Beach, FL Metr...</td>\n",
       "      <td>310M400US33100</td>\n",
       "      <td>$50,000-$99,999</td>\n",
       "      <td>Total</td>\n",
       "      <td>Equally male/female</td>\n",
       "      <td>3261</td>\n",
       "      <td>2988</td>\n",
       "      <td>Florida</td>\n",
       "    </tr>\n",
       "    <tr>\n",
       "      <th>72</th>\n",
       "      <td>Miami-Fort Lauderdale-West Palm Beach, FL Metr...</td>\n",
       "      <td>310M400US33100</td>\n",
       "      <td>$100,000-$249,999</td>\n",
       "      <td>Total</td>\n",
       "      <td>Equally male/female</td>\n",
       "      <td>7450</td>\n",
       "      <td>5371</td>\n",
       "      <td>Florida</td>\n",
       "    </tr>\n",
       "    <tr>\n",
       "      <th>73</th>\n",
       "      <td>Miami-Fort Lauderdale-West Palm Beach, FL Metr...</td>\n",
       "      <td>310M400US33100</td>\n",
       "      <td>$250,000 to $499,999</td>\n",
       "      <td>Total</td>\n",
       "      <td>Equally male/female</td>\n",
       "      <td>12491</td>\n",
       "      <td>4499</td>\n",
       "      <td>Florida</td>\n",
       "    </tr>\n",
       "    <tr>\n",
       "      <th>74</th>\n",
       "      <td>Miami-Fort Lauderdale-West Palm Beach, FL Metr...</td>\n",
       "      <td>310M400US33100</td>\n",
       "      <td>$500,000-$999,999</td>\n",
       "      <td>Total</td>\n",
       "      <td>Equally male/female</td>\n",
       "      <td>23365</td>\n",
       "      <td>4250</td>\n",
       "      <td>Florida</td>\n",
       "    </tr>\n",
       "    <tr>\n",
       "      <th>75</th>\n",
       "      <td>Miami-Fort Lauderdale-West Palm Beach, FL Metr...</td>\n",
       "      <td>310M400US33100</td>\n",
       "      <td>$1,000,000 or more</td>\n",
       "      <td>Total</td>\n",
       "      <td>Equally male/female</td>\n",
       "      <td>123384</td>\n",
       "      <td>6267</td>\n",
       "      <td>Florida</td>\n",
       "    </tr>\n",
       "    <tr>\n",
       "      <th>86</th>\n",
       "      <td>Miami-Fort Lauderdale-West Palm Beach, FL Metr...</td>\n",
       "      <td>310M400US33100</td>\n",
       "      <td>Less than $5,000</td>\n",
       "      <td>Hispanic</td>\n",
       "      <td>Total</td>\n",
       "      <td>272</td>\n",
       "      <td>450</td>\n",
       "      <td>Florida</td>\n",
       "    </tr>\n",
       "    <tr>\n",
       "      <th>87</th>\n",
       "      <td>Miami-Fort Lauderdale-West Palm Beach, FL Metr...</td>\n",
       "      <td>310M400US33100</td>\n",
       "      <td>$5,000,$9,000</td>\n",
       "      <td>Hispanic</td>\n",
       "      <td>Total</td>\n",
       "      <td>0</td>\n",
       "      <td>0</td>\n",
       "      <td>Florida</td>\n",
       "    </tr>\n",
       "    <tr>\n",
       "      <th>88</th>\n",
       "      <td>Miami-Fort Lauderdale-West Palm Beach, FL Metr...</td>\n",
       "      <td>310M400US33100</td>\n",
       "      <td>$10,000-$24,999</td>\n",
       "      <td>Hispanic</td>\n",
       "      <td>Total</td>\n",
       "      <td>868</td>\n",
       "      <td>1249</td>\n",
       "      <td>Florida</td>\n",
       "    </tr>\n",
       "    <tr>\n",
       "      <th>89</th>\n",
       "      <td>Miami-Fort Lauderdale-West Palm Beach, FL Metr...</td>\n",
       "      <td>310M400US33100</td>\n",
       "      <td>$25,000-$49,999</td>\n",
       "      <td>Hispanic</td>\n",
       "      <td>Total</td>\n",
       "      <td>2272</td>\n",
       "      <td>2580</td>\n",
       "      <td>Florida</td>\n",
       "    </tr>\n",
       "    <tr>\n",
       "      <th>90</th>\n",
       "      <td>Miami-Fort Lauderdale-West Palm Beach, FL Metr...</td>\n",
       "      <td>310M400US33100</td>\n",
       "      <td>$50,000-$99,999</td>\n",
       "      <td>Hispanic</td>\n",
       "      <td>Total</td>\n",
       "      <td>6172</td>\n",
       "      <td>5627</td>\n",
       "      <td>Florida</td>\n",
       "    </tr>\n",
       "    <tr>\n",
       "      <th>91</th>\n",
       "      <td>Miami-Fort Lauderdale-West Palm Beach, FL Metr...</td>\n",
       "      <td>310M400US33100</td>\n",
       "      <td>$100,000-$249,999</td>\n",
       "      <td>Hispanic</td>\n",
       "      <td>Total</td>\n",
       "      <td>16911</td>\n",
       "      <td>11372</td>\n",
       "      <td>Florida</td>\n",
       "    </tr>\n",
       "    <tr>\n",
       "      <th>92</th>\n",
       "      <td>Miami-Fort Lauderdale-West Palm Beach, FL Metr...</td>\n",
       "      <td>310M400US33100</td>\n",
       "      <td>$250,000 to $499,999</td>\n",
       "      <td>Hispanic</td>\n",
       "      <td>Total</td>\n",
       "      <td>23263</td>\n",
       "      <td>8749</td>\n",
       "      <td>Florida</td>\n",
       "    </tr>\n",
       "    <tr>\n",
       "      <th>93</th>\n",
       "      <td>Miami-Fort Lauderdale-West Palm Beach, FL Metr...</td>\n",
       "      <td>310M400US33100</td>\n",
       "      <td>$500,000-$999,999</td>\n",
       "      <td>Hispanic</td>\n",
       "      <td>Total</td>\n",
       "      <td>37988</td>\n",
       "      <td>7658</td>\n",
       "      <td>Florida</td>\n",
       "    </tr>\n",
       "    <tr>\n",
       "      <th>94</th>\n",
       "      <td>Miami-Fort Lauderdale-West Palm Beach, FL Metr...</td>\n",
       "      <td>310M400US33100</td>\n",
       "      <td>$1,000,000 or more</td>\n",
       "      <td>Hispanic</td>\n",
       "      <td>Total</td>\n",
       "      <td>208118</td>\n",
       "      <td>10243</td>\n",
       "      <td>Florida</td>\n",
       "    </tr>\n",
       "    <tr>\n",
       "      <th>108</th>\n",
       "      <td>Miami-Fort Lauderdale-West Palm Beach, FL Metr...</td>\n",
       "      <td>310M400US33100</td>\n",
       "      <td>Less than $5,000</td>\n",
       "      <td>Equally Hispanic/non-Hispanic</td>\n",
       "      <td>Total</td>\n",
       "      <td>0</td>\n",
       "      <td>0</td>\n",
       "      <td>Florida</td>\n",
       "    </tr>\n",
       "    <tr>\n",
       "      <th>109</th>\n",
       "      <td>Miami-Fort Lauderdale-West Palm Beach, FL Metr...</td>\n",
       "      <td>310M400US33100</td>\n",
       "      <td>$5,000,$9,000</td>\n",
       "      <td>Equally Hispanic/non-Hispanic</td>\n",
       "      <td>Total</td>\n",
       "      <td>0</td>\n",
       "      <td>0</td>\n",
       "      <td>Florida</td>\n",
       "    </tr>\n",
       "    <tr>\n",
       "      <th>110</th>\n",
       "      <td>Miami-Fort Lauderdale-West Palm Beach, FL Metr...</td>\n",
       "      <td>310M400US33100</td>\n",
       "      <td>$10,000-$24,999</td>\n",
       "      <td>Equally Hispanic/non-Hispanic</td>\n",
       "      <td>Total</td>\n",
       "      <td>0</td>\n",
       "      <td>0</td>\n",
       "      <td>Florida</td>\n",
       "    </tr>\n",
       "    <tr>\n",
       "      <th>111</th>\n",
       "      <td>Miami-Fort Lauderdale-West Palm Beach, FL Metr...</td>\n",
       "      <td>310M400US33100</td>\n",
       "      <td>$25,000-$49,999</td>\n",
       "      <td>Equally Hispanic/non-Hispanic</td>\n",
       "      <td>Total</td>\n",
       "      <td>0</td>\n",
       "      <td>0</td>\n",
       "      <td>Florida</td>\n",
       "    </tr>\n",
       "    <tr>\n",
       "      <th>112</th>\n",
       "      <td>Miami-Fort Lauderdale-West Palm Beach, FL Metr...</td>\n",
       "      <td>310M400US33100</td>\n",
       "      <td>$50,000-$99,999</td>\n",
       "      <td>Equally Hispanic/non-Hispanic</td>\n",
       "      <td>Total</td>\n",
       "      <td>361</td>\n",
       "      <td>365</td>\n",
       "      <td>Florida</td>\n",
       "    </tr>\n",
       "    <tr>\n",
       "      <th>113</th>\n",
       "      <td>Miami-Fort Lauderdale-West Palm Beach, FL Metr...</td>\n",
       "      <td>310M400US33100</td>\n",
       "      <td>$100,000-$249,999</td>\n",
       "      <td>Equally Hispanic/non-Hispanic</td>\n",
       "      <td>Total</td>\n",
       "      <td>944</td>\n",
       "      <td>656</td>\n",
       "      <td>Florida</td>\n",
       "    </tr>\n",
       "    <tr>\n",
       "      <th>114</th>\n",
       "      <td>Miami-Fort Lauderdale-West Palm Beach, FL Metr...</td>\n",
       "      <td>310M400US33100</td>\n",
       "      <td>$250,000 to $499,999</td>\n",
       "      <td>Equally Hispanic/non-Hispanic</td>\n",
       "      <td>Total</td>\n",
       "      <td>1567</td>\n",
       "      <td>597</td>\n",
       "      <td>Florida</td>\n",
       "    </tr>\n",
       "    <tr>\n",
       "      <th>115</th>\n",
       "      <td>Miami-Fort Lauderdale-West Palm Beach, FL Metr...</td>\n",
       "      <td>310M400US33100</td>\n",
       "      <td>$500,000-$999,999</td>\n",
       "      <td>Equally Hispanic/non-Hispanic</td>\n",
       "      <td>Total</td>\n",
       "      <td>2964</td>\n",
       "      <td>503</td>\n",
       "      <td>Florida</td>\n",
       "    </tr>\n",
       "    <tr>\n",
       "      <th>116</th>\n",
       "      <td>Miami-Fort Lauderdale-West Palm Beach, FL Metr...</td>\n",
       "      <td>310M400US33100</td>\n",
       "      <td>$1,000,000 or more</td>\n",
       "      <td>Equally Hispanic/non-Hispanic</td>\n",
       "      <td>Total</td>\n",
       "      <td>0</td>\n",
       "      <td>0</td>\n",
       "      <td>Florida</td>\n",
       "    </tr>\n",
       "    <tr>\n",
       "      <th>130</th>\n",
       "      <td>Miami-Fort Lauderdale-West Palm Beach, FL Metr...</td>\n",
       "      <td>310M400US33100</td>\n",
       "      <td>Less than $5,000</td>\n",
       "      <td>Non-Hispanic</td>\n",
       "      <td>Total</td>\n",
       "      <td>1073</td>\n",
       "      <td>706</td>\n",
       "      <td>Florida</td>\n",
       "    </tr>\n",
       "    <tr>\n",
       "      <th>131</th>\n",
       "      <td>Miami-Fort Lauderdale-West Palm Beach, FL Metr...</td>\n",
       "      <td>310M400US33100</td>\n",
       "      <td>$5,000,$9,000</td>\n",
       "      <td>Non-Hispanic</td>\n",
       "      <td>Total</td>\n",
       "      <td>368</td>\n",
       "      <td>804</td>\n",
       "      <td>Florida</td>\n",
       "    </tr>\n",
       "    <tr>\n",
       "      <th>132</th>\n",
       "      <td>Miami-Fort Lauderdale-West Palm Beach, FL Metr...</td>\n",
       "      <td>310M400US33100</td>\n",
       "      <td>$10,000-$24,999</td>\n",
       "      <td>Non-Hispanic</td>\n",
       "      <td>Total</td>\n",
       "      <td>8986</td>\n",
       "      <td>3061</td>\n",
       "      <td>Florida</td>\n",
       "    </tr>\n",
       "    <tr>\n",
       "      <th>133</th>\n",
       "      <td>Miami-Fort Lauderdale-West Palm Beach, FL Metr...</td>\n",
       "      <td>310M400US33100</td>\n",
       "      <td>$25,000-$49,999</td>\n",
       "      <td>Non-Hispanic</td>\n",
       "      <td>Total</td>\n",
       "      <td>7965</td>\n",
       "      <td>6146</td>\n",
       "      <td>Florida</td>\n",
       "    </tr>\n",
       "    <tr>\n",
       "      <th>134</th>\n",
       "      <td>Miami-Fort Lauderdale-West Palm Beach, FL Metr...</td>\n",
       "      <td>310M400US33100</td>\n",
       "      <td>$50,000-$99,999</td>\n",
       "      <td>Non-Hispanic</td>\n",
       "      <td>Total</td>\n",
       "      <td>11835</td>\n",
       "      <td>11540</td>\n",
       "      <td>Florida</td>\n",
       "    </tr>\n",
       "    <tr>\n",
       "      <th>135</th>\n",
       "      <td>Miami-Fort Lauderdale-West Palm Beach, FL Metr...</td>\n",
       "      <td>310M400US33100</td>\n",
       "      <td>$100,000-$249,999</td>\n",
       "      <td>Non-Hispanic</td>\n",
       "      <td>Total</td>\n",
       "      <td>33058</td>\n",
       "      <td>23576</td>\n",
       "      <td>Florida</td>\n",
       "    </tr>\n",
       "    <tr>\n",
       "      <th>136</th>\n",
       "      <td>Miami-Fort Lauderdale-West Palm Beach, FL Metr...</td>\n",
       "      <td>310M400US33100</td>\n",
       "      <td>$250,000 to $499,999</td>\n",
       "      <td>Non-Hispanic</td>\n",
       "      <td>Total</td>\n",
       "      <td>53505</td>\n",
       "      <td>21312</td>\n",
       "      <td>Florida</td>\n",
       "    </tr>\n",
       "    <tr>\n",
       "      <th>137</th>\n",
       "      <td>Miami-Fort Lauderdale-West Palm Beach, FL Metr...</td>\n",
       "      <td>310M400US33100</td>\n",
       "      <td>$500,000-$999,999</td>\n",
       "      <td>Non-Hispanic</td>\n",
       "      <td>Total</td>\n",
       "      <td>87213</td>\n",
       "      <td>18695</td>\n",
       "      <td>Florida</td>\n",
       "    </tr>\n",
       "    <tr>\n",
       "      <th>138</th>\n",
       "      <td>Miami-Fort Lauderdale-West Palm Beach, FL Metr...</td>\n",
       "      <td>310M400US33100</td>\n",
       "      <td>$1,000,000 or more</td>\n",
       "      <td>Non-Hispanic</td>\n",
       "      <td>Total</td>\n",
       "      <td>708822</td>\n",
       "      <td>28908</td>\n",
       "      <td>Florida</td>\n",
       "    </tr>\n",
       "  </tbody>\n",
       "</table>\n",
       "</div>"
      ],
      "text/plain": [
       "                                          Municipality          GEO_ID   \n",
       "10   Miami-Fort Lauderdale-West Palm Beach, FL Metr...  310M400US33100  \\\n",
       "11   Miami-Fort Lauderdale-West Palm Beach, FL Metr...  310M400US33100   \n",
       "12   Miami-Fort Lauderdale-West Palm Beach, FL Metr...  310M400US33100   \n",
       "13   Miami-Fort Lauderdale-West Palm Beach, FL Metr...  310M400US33100   \n",
       "14   Miami-Fort Lauderdale-West Palm Beach, FL Metr...  310M400US33100   \n",
       "15   Miami-Fort Lauderdale-West Palm Beach, FL Metr...  310M400US33100   \n",
       "16   Miami-Fort Lauderdale-West Palm Beach, FL Metr...  310M400US33100   \n",
       "17   Miami-Fort Lauderdale-West Palm Beach, FL Metr...  310M400US33100   \n",
       "18   Miami-Fort Lauderdale-West Palm Beach, FL Metr...  310M400US33100   \n",
       "29   Miami-Fort Lauderdale-West Palm Beach, FL Metr...  310M400US33100   \n",
       "30   Miami-Fort Lauderdale-West Palm Beach, FL Metr...  310M400US33100   \n",
       "31   Miami-Fort Lauderdale-West Palm Beach, FL Metr...  310M400US33100   \n",
       "32   Miami-Fort Lauderdale-West Palm Beach, FL Metr...  310M400US33100   \n",
       "33   Miami-Fort Lauderdale-West Palm Beach, FL Metr...  310M400US33100   \n",
       "34   Miami-Fort Lauderdale-West Palm Beach, FL Metr...  310M400US33100   \n",
       "35   Miami-Fort Lauderdale-West Palm Beach, FL Metr...  310M400US33100   \n",
       "36   Miami-Fort Lauderdale-West Palm Beach, FL Metr...  310M400US33100   \n",
       "37   Miami-Fort Lauderdale-West Palm Beach, FL Metr...  310M400US33100   \n",
       "48   Miami-Fort Lauderdale-West Palm Beach, FL Metr...  310M400US33100   \n",
       "49   Miami-Fort Lauderdale-West Palm Beach, FL Metr...  310M400US33100   \n",
       "50   Miami-Fort Lauderdale-West Palm Beach, FL Metr...  310M400US33100   \n",
       "51   Miami-Fort Lauderdale-West Palm Beach, FL Metr...  310M400US33100   \n",
       "52   Miami-Fort Lauderdale-West Palm Beach, FL Metr...  310M400US33100   \n",
       "53   Miami-Fort Lauderdale-West Palm Beach, FL Metr...  310M400US33100   \n",
       "54   Miami-Fort Lauderdale-West Palm Beach, FL Metr...  310M400US33100   \n",
       "55   Miami-Fort Lauderdale-West Palm Beach, FL Metr...  310M400US33100   \n",
       "56   Miami-Fort Lauderdale-West Palm Beach, FL Metr...  310M400US33100   \n",
       "67   Miami-Fort Lauderdale-West Palm Beach, FL Metr...  310M400US33100   \n",
       "68   Miami-Fort Lauderdale-West Palm Beach, FL Metr...  310M400US33100   \n",
       "69   Miami-Fort Lauderdale-West Palm Beach, FL Metr...  310M400US33100   \n",
       "70   Miami-Fort Lauderdale-West Palm Beach, FL Metr...  310M400US33100   \n",
       "71   Miami-Fort Lauderdale-West Palm Beach, FL Metr...  310M400US33100   \n",
       "72   Miami-Fort Lauderdale-West Palm Beach, FL Metr...  310M400US33100   \n",
       "73   Miami-Fort Lauderdale-West Palm Beach, FL Metr...  310M400US33100   \n",
       "74   Miami-Fort Lauderdale-West Palm Beach, FL Metr...  310M400US33100   \n",
       "75   Miami-Fort Lauderdale-West Palm Beach, FL Metr...  310M400US33100   \n",
       "86   Miami-Fort Lauderdale-West Palm Beach, FL Metr...  310M400US33100   \n",
       "87   Miami-Fort Lauderdale-West Palm Beach, FL Metr...  310M400US33100   \n",
       "88   Miami-Fort Lauderdale-West Palm Beach, FL Metr...  310M400US33100   \n",
       "89   Miami-Fort Lauderdale-West Palm Beach, FL Metr...  310M400US33100   \n",
       "90   Miami-Fort Lauderdale-West Palm Beach, FL Metr...  310M400US33100   \n",
       "91   Miami-Fort Lauderdale-West Palm Beach, FL Metr...  310M400US33100   \n",
       "92   Miami-Fort Lauderdale-West Palm Beach, FL Metr...  310M400US33100   \n",
       "93   Miami-Fort Lauderdale-West Palm Beach, FL Metr...  310M400US33100   \n",
       "94   Miami-Fort Lauderdale-West Palm Beach, FL Metr...  310M400US33100   \n",
       "108  Miami-Fort Lauderdale-West Palm Beach, FL Metr...  310M400US33100   \n",
       "109  Miami-Fort Lauderdale-West Palm Beach, FL Metr...  310M400US33100   \n",
       "110  Miami-Fort Lauderdale-West Palm Beach, FL Metr...  310M400US33100   \n",
       "111  Miami-Fort Lauderdale-West Palm Beach, FL Metr...  310M400US33100   \n",
       "112  Miami-Fort Lauderdale-West Palm Beach, FL Metr...  310M400US33100   \n",
       "113  Miami-Fort Lauderdale-West Palm Beach, FL Metr...  310M400US33100   \n",
       "114  Miami-Fort Lauderdale-West Palm Beach, FL Metr...  310M400US33100   \n",
       "115  Miami-Fort Lauderdale-West Palm Beach, FL Metr...  310M400US33100   \n",
       "116  Miami-Fort Lauderdale-West Palm Beach, FL Metr...  310M400US33100   \n",
       "130  Miami-Fort Lauderdale-West Palm Beach, FL Metr...  310M400US33100   \n",
       "131  Miami-Fort Lauderdale-West Palm Beach, FL Metr...  310M400US33100   \n",
       "132  Miami-Fort Lauderdale-West Palm Beach, FL Metr...  310M400US33100   \n",
       "133  Miami-Fort Lauderdale-West Palm Beach, FL Metr...  310M400US33100   \n",
       "134  Miami-Fort Lauderdale-West Palm Beach, FL Metr...  310M400US33100   \n",
       "135  Miami-Fort Lauderdale-West Palm Beach, FL Metr...  310M400US33100   \n",
       "136  Miami-Fort Lauderdale-West Palm Beach, FL Metr...  310M400US33100   \n",
       "137  Miami-Fort Lauderdale-West Palm Beach, FL Metr...  310M400US33100   \n",
       "138  Miami-Fort Lauderdale-West Palm Beach, FL Metr...  310M400US33100   \n",
       "\n",
       "         Firm_Sale_Amount                      Ethnicity               Gender   \n",
       "10       Less than $5,000                          Total                Total  \\\n",
       "11          $5,000,$9,000                          Total                Total   \n",
       "12        $10,000-$24,999                          Total                Total   \n",
       "13        $25,000-$49,999                          Total                Total   \n",
       "14        $50,000-$99,999                          Total                Total   \n",
       "15      $100,000-$249,999                          Total                Total   \n",
       "16   $250,000 to $499,999                          Total                Total   \n",
       "17      $500,000-$999,999                          Total                Total   \n",
       "18     $1,000,000 or more                          Total                Total   \n",
       "29       Less than $5,000                          Total               Female   \n",
       "30          $5,000,$9,000                          Total               Female   \n",
       "31        $10,000-$24,999                          Total               Female   \n",
       "32        $25,000-$49,999                          Total               Female   \n",
       "33        $50,000-$99,999                          Total               Female   \n",
       "34      $100,000-$249,999                          Total               Female   \n",
       "35   $250,000 to $499,999                          Total               Female   \n",
       "36      $500,000-$999,999                          Total               Female   \n",
       "37     $1,000,000 or more                          Total               Female   \n",
       "48       Less than $5,000                          Total                 Male   \n",
       "49          $5,000,$9,000                          Total                 Male   \n",
       "50        $10,000-$24,999                          Total                 Male   \n",
       "51        $25,000-$49,999                          Total                 Male   \n",
       "52        $50,000-$99,999                          Total                 Male   \n",
       "53      $100,000-$249,999                          Total                 Male   \n",
       "54   $250,000 to $499,999                          Total                 Male   \n",
       "55      $500,000-$999,999                          Total                 Male   \n",
       "56     $1,000,000 or more                          Total                 Male   \n",
       "67       Less than $5,000                          Total  Equally male/female   \n",
       "68          $5,000,$9,000                          Total  Equally male/female   \n",
       "69        $10,000-$24,999                          Total  Equally male/female   \n",
       "70        $25,000-$49,999                          Total  Equally male/female   \n",
       "71        $50,000-$99,999                          Total  Equally male/female   \n",
       "72      $100,000-$249,999                          Total  Equally male/female   \n",
       "73   $250,000 to $499,999                          Total  Equally male/female   \n",
       "74      $500,000-$999,999                          Total  Equally male/female   \n",
       "75     $1,000,000 or more                          Total  Equally male/female   \n",
       "86       Less than $5,000                       Hispanic                Total   \n",
       "87          $5,000,$9,000                       Hispanic                Total   \n",
       "88        $10,000-$24,999                       Hispanic                Total   \n",
       "89        $25,000-$49,999                       Hispanic                Total   \n",
       "90        $50,000-$99,999                       Hispanic                Total   \n",
       "91      $100,000-$249,999                       Hispanic                Total   \n",
       "92   $250,000 to $499,999                       Hispanic                Total   \n",
       "93      $500,000-$999,999                       Hispanic                Total   \n",
       "94     $1,000,000 or more                       Hispanic                Total   \n",
       "108      Less than $5,000  Equally Hispanic/non-Hispanic                Total   \n",
       "109         $5,000,$9,000  Equally Hispanic/non-Hispanic                Total   \n",
       "110       $10,000-$24,999  Equally Hispanic/non-Hispanic                Total   \n",
       "111       $25,000-$49,999  Equally Hispanic/non-Hispanic                Total   \n",
       "112       $50,000-$99,999  Equally Hispanic/non-Hispanic                Total   \n",
       "113     $100,000-$249,999  Equally Hispanic/non-Hispanic                Total   \n",
       "114  $250,000 to $499,999  Equally Hispanic/non-Hispanic                Total   \n",
       "115     $500,000-$999,999  Equally Hispanic/non-Hispanic                Total   \n",
       "116    $1,000,000 or more  Equally Hispanic/non-Hispanic                Total   \n",
       "130      Less than $5,000                   Non-Hispanic                Total   \n",
       "131         $5,000,$9,000                   Non-Hispanic                Total   \n",
       "132       $10,000-$24,999                   Non-Hispanic                Total   \n",
       "133       $25,000-$49,999                   Non-Hispanic                Total   \n",
       "134       $50,000-$99,999                   Non-Hispanic                Total   \n",
       "135     $100,000-$249,999                   Non-Hispanic                Total   \n",
       "136  $250,000 to $499,999                   Non-Hispanic                Total   \n",
       "137     $500,000-$999,999                   Non-Hispanic                Total   \n",
       "138    $1,000,000 or more                   Non-Hispanic                Total   \n",
       "\n",
       "     Employee_Amount  Amount_of_Firms    State  \n",
       "10              2152             1233  Florida  \n",
       "11               527             1115  Florida  \n",
       "12             10489             4375  Florida  \n",
       "13             10405             8950  Florida  \n",
       "14             18500            17632  Florida  \n",
       "15             51501            35846  Florida  \n",
       "16             79973            31088  Florida  \n",
       "17            131663            27422  Florida  \n",
       "18           1926920            44173  Florida  \n",
       "29                 0                0  Florida  \n",
       "30               143              291  Florida  \n",
       "31              1036             1139  Florida  \n",
       "32              2348             2495  Florida  \n",
       "33              5591             5443  Florida  \n",
       "34             14067             9747  Florida  \n",
       "35             18579             6877  Florida  \n",
       "36             27227             5469  Florida  \n",
       "37            144067             7837  Florida  \n",
       "48              1028              775  Florida  \n",
       "49               339              661  Florida  \n",
       "50              8676             2641  Florida  \n",
       "51              6167             4871  Florida  \n",
       "52              9515             9104  Florida  \n",
       "53             29396            20485  Florida  \n",
       "54             47264            19283  Florida  \n",
       "55             77572            17139  Florida  \n",
       "56            680013            26192  Florida  \n",
       "67                 0                0  Florida  \n",
       "68                 0                0  Florida  \n",
       "69               185              587  Florida  \n",
       "70              1858             1560  Florida  \n",
       "71              3261             2988  Florida  \n",
       "72              7450             5371  Florida  \n",
       "73             12491             4499  Florida  \n",
       "74             23365             4250  Florida  \n",
       "75            123384             6267  Florida  \n",
       "86               272              450  Florida  \n",
       "87                 0                0  Florida  \n",
       "88               868             1249  Florida  \n",
       "89              2272             2580  Florida  \n",
       "90              6172             5627  Florida  \n",
       "91             16911            11372  Florida  \n",
       "92             23263             8749  Florida  \n",
       "93             37988             7658  Florida  \n",
       "94            208118            10243  Florida  \n",
       "108                0                0  Florida  \n",
       "109                0                0  Florida  \n",
       "110                0                0  Florida  \n",
       "111                0                0  Florida  \n",
       "112              361              365  Florida  \n",
       "113              944              656  Florida  \n",
       "114             1567              597  Florida  \n",
       "115             2964              503  Florida  \n",
       "116                0                0  Florida  \n",
       "130             1073              706  Florida  \n",
       "131              368              804  Florida  \n",
       "132             8986             3061  Florida  \n",
       "133             7965             6146  Florida  \n",
       "134            11835            11540  Florida  \n",
       "135            33058            23576  Florida  \n",
       "136            53505            21312  Florida  \n",
       "137            87213            18695  Florida  \n",
       "138           708822            28908  Florida  "
      ]
     },
     "execution_count": 10,
     "metadata": {},
     "output_type": "execute_result"
    }
   ],
   "source": [
    "final_miami['State'] = pd.Series(['Florida']*139)\n",
    "pd.options.display.max_rows = 999\n",
    "final_miami"
   ]
  },
  {
   "cell_type": "code",
   "execution_count": 28,
   "metadata": {},
   "outputs": [],
   "source": [
    "final_miami.to_csv('../assessment_8/data/census_data_cleaned_miami.csv', index=False)"
   ]
  },
  {
   "cell_type": "code",
   "execution_count": 16,
   "metadata": {},
   "outputs": [
    {
     "data": {
      "application/vnd.plotly.v1+json": {
       "config": {
        "plotlyServerURL": "https://plot.ly"
       },
       "data": [
        {
         "alignmentgroup": "True",
         "hovertemplate": "Firm_Sale_Amount=%{x}<br>Amount_of_Firms=%{y}<extra></extra>",
         "legendgroup": "",
         "marker": {
          "color": "#636efa",
          "pattern": {
           "shape": ""
          }
         },
         "name": "",
         "offsetgroup": "",
         "orientation": "v",
         "showlegend": false,
         "textposition": "auto",
         "type": "bar",
         "x": [
          "Less than $5,000",
          "$5,000,$9,000",
          " $10,000-$24,999",
          "$25,000-$49,999",
          "$50,000-$99,999",
          "$100,000-$249,999",
          "$250,000 to $499,999",
          "$500,000-$999,999",
          " $1,000,000 or more",
          "Less than $5,000",
          "$5,000,$9,000",
          " $10,000-$24,999",
          "$25,000-$49,999",
          "$50,000-$99,999",
          "$100,000-$249,999",
          "$250,000 to $499,999",
          "$500,000-$999,999",
          " $1,000,000 or more",
          "Less than $5,000",
          "$5,000,$9,000",
          " $10,000-$24,999",
          "$25,000-$49,999",
          "$50,000-$99,999",
          "$100,000-$249,999",
          "$250,000 to $499,999",
          "$500,000-$999,999",
          " $1,000,000 or more",
          "Less than $5,000",
          "$5,000,$9,000",
          " $10,000-$24,999",
          "$25,000-$49,999",
          "$50,000-$99,999",
          "$100,000-$249,999",
          "$250,000 to $499,999",
          "$500,000-$999,999",
          " $1,000,000 or more",
          "Less than $5,000",
          "$5,000,$9,000",
          " $10,000-$24,999",
          "$25,000-$49,999",
          "$50,000-$99,999",
          "$100,000-$249,999",
          "$250,000 to $499,999",
          "$500,000-$999,999",
          " $1,000,000 or more",
          "Less than $5,000",
          "$5,000,$9,000",
          " $10,000-$24,999",
          "$25,000-$49,999",
          "$50,000-$99,999",
          "$100,000-$249,999",
          "$250,000 to $499,999",
          "$500,000-$999,999",
          " $1,000,000 or more",
          "Less than $5,000",
          "$5,000,$9,000",
          " $10,000-$24,999",
          "$25,000-$49,999",
          "$50,000-$99,999",
          "$100,000-$249,999",
          "$250,000 to $499,999",
          "$500,000-$999,999",
          " $1,000,000 or more"
         ],
         "xaxis": "x",
         "y": [
          1233,
          1115,
          4375,
          8950,
          17632,
          35846,
          31088,
          27422,
          44173,
          0,
          291,
          1139,
          2495,
          5443,
          9747,
          6877,
          5469,
          7837,
          775,
          661,
          2641,
          4871,
          9104,
          20485,
          19283,
          17139,
          26192,
          0,
          0,
          587,
          1560,
          2988,
          5371,
          4499,
          4250,
          6267,
          450,
          0,
          1249,
          2580,
          5627,
          11372,
          8749,
          7658,
          10243,
          0,
          0,
          0,
          0,
          365,
          656,
          597,
          503,
          0,
          706,
          804,
          3061,
          6146,
          11540,
          23576,
          21312,
          18695,
          28908
         ],
         "yaxis": "y"
        }
       ],
       "layout": {
        "barmode": "relative",
        "legend": {
         "tracegroupgap": 0
        },
        "margin": {
         "t": 60
        },
        "template": {
         "data": {
          "bar": [
           {
            "error_x": {
             "color": "#2a3f5f"
            },
            "error_y": {
             "color": "#2a3f5f"
            },
            "marker": {
             "line": {
              "color": "#E5ECF6",
              "width": 0.5
             },
             "pattern": {
              "fillmode": "overlay",
              "size": 10,
              "solidity": 0.2
             }
            },
            "type": "bar"
           }
          ],
          "barpolar": [
           {
            "marker": {
             "line": {
              "color": "#E5ECF6",
              "width": 0.5
             },
             "pattern": {
              "fillmode": "overlay",
              "size": 10,
              "solidity": 0.2
             }
            },
            "type": "barpolar"
           }
          ],
          "carpet": [
           {
            "aaxis": {
             "endlinecolor": "#2a3f5f",
             "gridcolor": "white",
             "linecolor": "white",
             "minorgridcolor": "white",
             "startlinecolor": "#2a3f5f"
            },
            "baxis": {
             "endlinecolor": "#2a3f5f",
             "gridcolor": "white",
             "linecolor": "white",
             "minorgridcolor": "white",
             "startlinecolor": "#2a3f5f"
            },
            "type": "carpet"
           }
          ],
          "choropleth": [
           {
            "colorbar": {
             "outlinewidth": 0,
             "ticks": ""
            },
            "type": "choropleth"
           }
          ],
          "contour": [
           {
            "colorbar": {
             "outlinewidth": 0,
             "ticks": ""
            },
            "colorscale": [
             [
              0,
              "#0d0887"
             ],
             [
              0.1111111111111111,
              "#46039f"
             ],
             [
              0.2222222222222222,
              "#7201a8"
             ],
             [
              0.3333333333333333,
              "#9c179e"
             ],
             [
              0.4444444444444444,
              "#bd3786"
             ],
             [
              0.5555555555555556,
              "#d8576b"
             ],
             [
              0.6666666666666666,
              "#ed7953"
             ],
             [
              0.7777777777777778,
              "#fb9f3a"
             ],
             [
              0.8888888888888888,
              "#fdca26"
             ],
             [
              1,
              "#f0f921"
             ]
            ],
            "type": "contour"
           }
          ],
          "contourcarpet": [
           {
            "colorbar": {
             "outlinewidth": 0,
             "ticks": ""
            },
            "type": "contourcarpet"
           }
          ],
          "heatmap": [
           {
            "colorbar": {
             "outlinewidth": 0,
             "ticks": ""
            },
            "colorscale": [
             [
              0,
              "#0d0887"
             ],
             [
              0.1111111111111111,
              "#46039f"
             ],
             [
              0.2222222222222222,
              "#7201a8"
             ],
             [
              0.3333333333333333,
              "#9c179e"
             ],
             [
              0.4444444444444444,
              "#bd3786"
             ],
             [
              0.5555555555555556,
              "#d8576b"
             ],
             [
              0.6666666666666666,
              "#ed7953"
             ],
             [
              0.7777777777777778,
              "#fb9f3a"
             ],
             [
              0.8888888888888888,
              "#fdca26"
             ],
             [
              1,
              "#f0f921"
             ]
            ],
            "type": "heatmap"
           }
          ],
          "heatmapgl": [
           {
            "colorbar": {
             "outlinewidth": 0,
             "ticks": ""
            },
            "colorscale": [
             [
              0,
              "#0d0887"
             ],
             [
              0.1111111111111111,
              "#46039f"
             ],
             [
              0.2222222222222222,
              "#7201a8"
             ],
             [
              0.3333333333333333,
              "#9c179e"
             ],
             [
              0.4444444444444444,
              "#bd3786"
             ],
             [
              0.5555555555555556,
              "#d8576b"
             ],
             [
              0.6666666666666666,
              "#ed7953"
             ],
             [
              0.7777777777777778,
              "#fb9f3a"
             ],
             [
              0.8888888888888888,
              "#fdca26"
             ],
             [
              1,
              "#f0f921"
             ]
            ],
            "type": "heatmapgl"
           }
          ],
          "histogram": [
           {
            "marker": {
             "pattern": {
              "fillmode": "overlay",
              "size": 10,
              "solidity": 0.2
             }
            },
            "type": "histogram"
           }
          ],
          "histogram2d": [
           {
            "colorbar": {
             "outlinewidth": 0,
             "ticks": ""
            },
            "colorscale": [
             [
              0,
              "#0d0887"
             ],
             [
              0.1111111111111111,
              "#46039f"
             ],
             [
              0.2222222222222222,
              "#7201a8"
             ],
             [
              0.3333333333333333,
              "#9c179e"
             ],
             [
              0.4444444444444444,
              "#bd3786"
             ],
             [
              0.5555555555555556,
              "#d8576b"
             ],
             [
              0.6666666666666666,
              "#ed7953"
             ],
             [
              0.7777777777777778,
              "#fb9f3a"
             ],
             [
              0.8888888888888888,
              "#fdca26"
             ],
             [
              1,
              "#f0f921"
             ]
            ],
            "type": "histogram2d"
           }
          ],
          "histogram2dcontour": [
           {
            "colorbar": {
             "outlinewidth": 0,
             "ticks": ""
            },
            "colorscale": [
             [
              0,
              "#0d0887"
             ],
             [
              0.1111111111111111,
              "#46039f"
             ],
             [
              0.2222222222222222,
              "#7201a8"
             ],
             [
              0.3333333333333333,
              "#9c179e"
             ],
             [
              0.4444444444444444,
              "#bd3786"
             ],
             [
              0.5555555555555556,
              "#d8576b"
             ],
             [
              0.6666666666666666,
              "#ed7953"
             ],
             [
              0.7777777777777778,
              "#fb9f3a"
             ],
             [
              0.8888888888888888,
              "#fdca26"
             ],
             [
              1,
              "#f0f921"
             ]
            ],
            "type": "histogram2dcontour"
           }
          ],
          "mesh3d": [
           {
            "colorbar": {
             "outlinewidth": 0,
             "ticks": ""
            },
            "type": "mesh3d"
           }
          ],
          "parcoords": [
           {
            "line": {
             "colorbar": {
              "outlinewidth": 0,
              "ticks": ""
             }
            },
            "type": "parcoords"
           }
          ],
          "pie": [
           {
            "automargin": true,
            "type": "pie"
           }
          ],
          "scatter": [
           {
            "fillpattern": {
             "fillmode": "overlay",
             "size": 10,
             "solidity": 0.2
            },
            "type": "scatter"
           }
          ],
          "scatter3d": [
           {
            "line": {
             "colorbar": {
              "outlinewidth": 0,
              "ticks": ""
             }
            },
            "marker": {
             "colorbar": {
              "outlinewidth": 0,
              "ticks": ""
             }
            },
            "type": "scatter3d"
           }
          ],
          "scattercarpet": [
           {
            "marker": {
             "colorbar": {
              "outlinewidth": 0,
              "ticks": ""
             }
            },
            "type": "scattercarpet"
           }
          ],
          "scattergeo": [
           {
            "marker": {
             "colorbar": {
              "outlinewidth": 0,
              "ticks": ""
             }
            },
            "type": "scattergeo"
           }
          ],
          "scattergl": [
           {
            "marker": {
             "colorbar": {
              "outlinewidth": 0,
              "ticks": ""
             }
            },
            "type": "scattergl"
           }
          ],
          "scattermapbox": [
           {
            "marker": {
             "colorbar": {
              "outlinewidth": 0,
              "ticks": ""
             }
            },
            "type": "scattermapbox"
           }
          ],
          "scatterpolar": [
           {
            "marker": {
             "colorbar": {
              "outlinewidth": 0,
              "ticks": ""
             }
            },
            "type": "scatterpolar"
           }
          ],
          "scatterpolargl": [
           {
            "marker": {
             "colorbar": {
              "outlinewidth": 0,
              "ticks": ""
             }
            },
            "type": "scatterpolargl"
           }
          ],
          "scatterternary": [
           {
            "marker": {
             "colorbar": {
              "outlinewidth": 0,
              "ticks": ""
             }
            },
            "type": "scatterternary"
           }
          ],
          "surface": [
           {
            "colorbar": {
             "outlinewidth": 0,
             "ticks": ""
            },
            "colorscale": [
             [
              0,
              "#0d0887"
             ],
             [
              0.1111111111111111,
              "#46039f"
             ],
             [
              0.2222222222222222,
              "#7201a8"
             ],
             [
              0.3333333333333333,
              "#9c179e"
             ],
             [
              0.4444444444444444,
              "#bd3786"
             ],
             [
              0.5555555555555556,
              "#d8576b"
             ],
             [
              0.6666666666666666,
              "#ed7953"
             ],
             [
              0.7777777777777778,
              "#fb9f3a"
             ],
             [
              0.8888888888888888,
              "#fdca26"
             ],
             [
              1,
              "#f0f921"
             ]
            ],
            "type": "surface"
           }
          ],
          "table": [
           {
            "cells": {
             "fill": {
              "color": "#EBF0F8"
             },
             "line": {
              "color": "white"
             }
            },
            "header": {
             "fill": {
              "color": "#C8D4E3"
             },
             "line": {
              "color": "white"
             }
            },
            "type": "table"
           }
          ]
         },
         "layout": {
          "annotationdefaults": {
           "arrowcolor": "#2a3f5f",
           "arrowhead": 0,
           "arrowwidth": 1
          },
          "autotypenumbers": "strict",
          "coloraxis": {
           "colorbar": {
            "outlinewidth": 0,
            "ticks": ""
           }
          },
          "colorscale": {
           "diverging": [
            [
             0,
             "#8e0152"
            ],
            [
             0.1,
             "#c51b7d"
            ],
            [
             0.2,
             "#de77ae"
            ],
            [
             0.3,
             "#f1b6da"
            ],
            [
             0.4,
             "#fde0ef"
            ],
            [
             0.5,
             "#f7f7f7"
            ],
            [
             0.6,
             "#e6f5d0"
            ],
            [
             0.7,
             "#b8e186"
            ],
            [
             0.8,
             "#7fbc41"
            ],
            [
             0.9,
             "#4d9221"
            ],
            [
             1,
             "#276419"
            ]
           ],
           "sequential": [
            [
             0,
             "#0d0887"
            ],
            [
             0.1111111111111111,
             "#46039f"
            ],
            [
             0.2222222222222222,
             "#7201a8"
            ],
            [
             0.3333333333333333,
             "#9c179e"
            ],
            [
             0.4444444444444444,
             "#bd3786"
            ],
            [
             0.5555555555555556,
             "#d8576b"
            ],
            [
             0.6666666666666666,
             "#ed7953"
            ],
            [
             0.7777777777777778,
             "#fb9f3a"
            ],
            [
             0.8888888888888888,
             "#fdca26"
            ],
            [
             1,
             "#f0f921"
            ]
           ],
           "sequentialminus": [
            [
             0,
             "#0d0887"
            ],
            [
             0.1111111111111111,
             "#46039f"
            ],
            [
             0.2222222222222222,
             "#7201a8"
            ],
            [
             0.3333333333333333,
             "#9c179e"
            ],
            [
             0.4444444444444444,
             "#bd3786"
            ],
            [
             0.5555555555555556,
             "#d8576b"
            ],
            [
             0.6666666666666666,
             "#ed7953"
            ],
            [
             0.7777777777777778,
             "#fb9f3a"
            ],
            [
             0.8888888888888888,
             "#fdca26"
            ],
            [
             1,
             "#f0f921"
            ]
           ]
          },
          "colorway": [
           "#636efa",
           "#EF553B",
           "#00cc96",
           "#ab63fa",
           "#FFA15A",
           "#19d3f3",
           "#FF6692",
           "#B6E880",
           "#FF97FF",
           "#FECB52"
          ],
          "font": {
           "color": "#2a3f5f"
          },
          "geo": {
           "bgcolor": "white",
           "lakecolor": "white",
           "landcolor": "#E5ECF6",
           "showlakes": true,
           "showland": true,
           "subunitcolor": "white"
          },
          "hoverlabel": {
           "align": "left"
          },
          "hovermode": "closest",
          "mapbox": {
           "style": "light"
          },
          "paper_bgcolor": "white",
          "plot_bgcolor": "#E5ECF6",
          "polar": {
           "angularaxis": {
            "gridcolor": "white",
            "linecolor": "white",
            "ticks": ""
           },
           "bgcolor": "#E5ECF6",
           "radialaxis": {
            "gridcolor": "white",
            "linecolor": "white",
            "ticks": ""
           }
          },
          "scene": {
           "xaxis": {
            "backgroundcolor": "#E5ECF6",
            "gridcolor": "white",
            "gridwidth": 2,
            "linecolor": "white",
            "showbackground": true,
            "ticks": "",
            "zerolinecolor": "white"
           },
           "yaxis": {
            "backgroundcolor": "#E5ECF6",
            "gridcolor": "white",
            "gridwidth": 2,
            "linecolor": "white",
            "showbackground": true,
            "ticks": "",
            "zerolinecolor": "white"
           },
           "zaxis": {
            "backgroundcolor": "#E5ECF6",
            "gridcolor": "white",
            "gridwidth": 2,
            "linecolor": "white",
            "showbackground": true,
            "ticks": "",
            "zerolinecolor": "white"
           }
          },
          "shapedefaults": {
           "line": {
            "color": "#2a3f5f"
           }
          },
          "ternary": {
           "aaxis": {
            "gridcolor": "white",
            "linecolor": "white",
            "ticks": ""
           },
           "baxis": {
            "gridcolor": "white",
            "linecolor": "white",
            "ticks": ""
           },
           "bgcolor": "#E5ECF6",
           "caxis": {
            "gridcolor": "white",
            "linecolor": "white",
            "ticks": ""
           }
          },
          "title": {
           "x": 0.05
          },
          "xaxis": {
           "automargin": true,
           "gridcolor": "white",
           "linecolor": "white",
           "ticks": "",
           "title": {
            "standoff": 15
           },
           "zerolinecolor": "white",
           "zerolinewidth": 2
          },
          "yaxis": {
           "automargin": true,
           "gridcolor": "white",
           "linecolor": "white",
           "ticks": "",
           "title": {
            "standoff": 15
           },
           "zerolinecolor": "white",
           "zerolinewidth": 2
          }
         }
        },
        "title": {
         "text": "Firm Sale's vs Total Firms in Miami"
        },
        "xaxis": {
         "anchor": "y",
         "domain": [
          0,
          1
         ],
         "title": {
          "text": "Firm Sale Amount"
         }
        },
        "yaxis": {
         "anchor": "x",
         "domain": [
          0,
          1
         ],
         "title": {
          "text": "Amount of Firms"
         }
        }
       }
      }
     },
     "metadata": {},
     "output_type": "display_data"
    }
   ],
   "source": [
    "\n",
    "fig = px.bar(final_miami, y='Amount_of_Firms', x='Firm_Sale_Amount')\n",
    "fig.update_layout(\n",
    "    xaxis_title=\"Firm Sale Amount\",\n",
    "    yaxis_title=\"Amount of Firms\"\n",
    ")\n",
    "fig.update_layout(title=\"Firm Sale's vs Total Firms in Miami\")\n",
    "fig.show()\n"
   ]
  },
  {
   "cell_type": "code",
   "execution_count": null,
   "metadata": {},
   "outputs": [
    {
     "name": "stdout",
     "output_type": "stream",
     "text": [
      "<class 'pandas.core.frame.DataFrame'>\n",
      "Index: 63 entries, 10 to 138\n",
      "Data columns (total 7 columns):\n",
      " #   Column            Non-Null Count  Dtype \n",
      "---  ------            --------------  ----- \n",
      " 0   Municipality      63 non-null     object\n",
      " 1   GEO_ID            63 non-null     object\n",
      " 2   Firm_Sale_Amount  63 non-null     object\n",
      " 3   Ethnicity         63 non-null     object\n",
      " 4   Gender            63 non-null     object\n",
      " 5   Employee_Amount   63 non-null     int64 \n",
      " 6   Amount_of_Firms   63 non-null     int64 \n",
      "dtypes: int64(2), object(5)\n",
      "memory usage: 3.9+ KB\n"
     ]
    }
   ],
   "source": [
    "final_miami.info()"
   ]
  },
  {
   "cell_type": "code",
   "execution_count": null,
   "metadata": {},
   "outputs": [
    {
     "data": {
      "text/plain": [
       "Ethnicity\n",
       "Equally Hispanic/non-Hispanic      235.666667\n",
       "Hispanic                          5325.333333\n",
       "Non-Hispanic                     12749.777778\n",
       "Total                             9383.472222\n",
       "Name: Amount_of_Firms, dtype: float64"
      ]
     },
     "execution_count": 30,
     "metadata": {},
     "output_type": "execute_result"
    }
   ],
   "source": [
    "grouped_gender= final_miami.groupby('Ethnicity')['Amount_of_Firms'].mean()\n",
    "grouped_gender"
   ]
  },
  {
   "cell_type": "code",
   "execution_count": 22,
   "metadata": {},
   "outputs": [
    {
     "data": {
      "image/png": "[encoded data removed]",
      "text/plain": [
       "<Figure size 640x480 with 1 Axes>"
      ]
     },
     "metadata": {},
     "output_type": "display_data"
    }
   ],
   "source": [
    "data = {\n",
    "    'Ethnicity': ['Equally Hispanic/non-Hispanic', 'Hispanic', 'Non-Hispanic'],\n",
    "    'Amount_of_Firms': [235, 5325, 12749]\n",
    "}\n",
    "\n",
    "df = pd.DataFrame(data)\n",
    "fig, ax = plt.subplots()\n",
    "bars = ax.barh(df['Ethnicity'], df['Amount_of_Firms'], color=['purple', 'green', 'blue'])\n",
    "for i, v in enumerate(df['Amount_of_Firms']):\n",
    "    ax.text(v + 159, i - 0.15, str(v), color='black')\n",
    "ax.set_xlabel('Amount of Firms', fontweight = 'bold')\n",
    "ax.set_ylabel('Ethnicity', fontweight='bold')\n",
    "ax.set_title('Ethnicity in Miami Firms', fontweight='bold')\n",
    "ax.spines['bottom'].set_visible(False)\n",
    "ax.spines['top'].set_visible(False)\n",
    "ax.spines['right'].set_visible(False)\n",
    "ax.spines['left'].set_visible(False)\n",
    "\n",
    "plt.show()\n",
    "\n"
   ]
  },
  {
   "cell_type": "code",
   "execution_count": null,
   "metadata": {},
   "outputs": [],
   "source": []
  }
 ],
 "metadata": {
  "kernelspec": {
   "display_name": "myenviorment",
   "language": "python",
   "name": "python3"
  },
  "language_info": {
   "codemirror_mode": {
    "name": "ipython",
    "version": 3
   },
   "file_extension": ".py",
   "mimetype": "text/x-python",
   "name": "python",
   "nbconvert_exporter": "python",
   "pygments_lexer": "ipython3",
   "version": "3.11.2"
  },
  "orig_nbformat": 4
 },
 "nbformat": 4,
 "nbformat_minor": 2
}
