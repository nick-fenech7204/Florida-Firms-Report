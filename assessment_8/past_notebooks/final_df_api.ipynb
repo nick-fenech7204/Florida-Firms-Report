{
 "cells": [
  {
   "cell_type": "code",
   "execution_count": 1,
   "metadata": {},
   "outputs": [],
   "source": [
    "import plotly.express as px\n",
    "import matplotlib.pyplot as plt\n",
    "import requests\n",
    "import pandas as pd"
   ]
  },
  {
   "cell_type": "code",
   "execution_count": 2,
   "metadata": {},
   "outputs": [],
   "source": [
    "import pandas as pd\n",
    "census_miami = pd.read_csv('../assessment_8/data/census_data_cleaned_miami.csv')\n",
    "census_tampa = pd.read_csv('../assessment_8/data/census_data_cleaned_tampa.csv')\n",
    "census_orlando = pd.read_csv('../assessment_8/data/census_data_cleaned_orlando.csv')"
   ]
  },
  {
   "cell_type": "code",
   "execution_count": 3,
   "metadata": {},
   "outputs": [],
   "source": [
    "municipality_dataframe = pd.concat([census_miami, census_orlando, census_tampa])\n",
    "municipality_df = municipality_dataframe.replace({'Total': 'null'})\n",
    "\n",
    "pd.options.display.max_rows = 300\n"
   ]
  },
  {
   "cell_type": "code",
   "execution_count": null,
   "metadata": {},
   "outputs": [],
   "source": [
    "# this cell will show the finished dataframe \n",
    "municipality_df"
   ]
  },
  {
   "cell_type": "code",
   "execution_count": 5,
   "metadata": {},
   "outputs": [],
   "source": [
    "municipality_df.to_csv('../assessment_8/data/municipality_df.csv', index=False)"
   ]
  },
  {
   "cell_type": "code",
   "execution_count": null,
   "metadata": {},
   "outputs": [],
   "source": []
  }
 ],
 "metadata": {
  "kernelspec": {
   "display_name": "myenviorment",
   "language": "python",
   "name": "python3"
  },
  "language_info": {
   "codemirror_mode": {
    "name": "ipython",
    "version": 3
   },
   "file_extension": ".py",
   "mimetype": "text/x-python",
   "name": "python",
   "nbconvert_exporter": "python",
   "pygments_lexer": "ipython3",
   "version": "3.11.2"
  },
  "orig_nbformat": 4
 },
 "nbformat": 4,
 "nbformat_minor": 2
}
