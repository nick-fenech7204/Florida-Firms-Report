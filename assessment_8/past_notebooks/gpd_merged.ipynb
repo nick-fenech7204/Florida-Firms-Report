{
 "cells": [
  {
   "cell_type": "code",
   "execution_count": null,
   "metadata": {},
   "outputs": [],
   "source": [
    "import pandas as pd\n",
    "orlando_gdp = pd.read_csv('../assessment_8/data/orlando_gpd.csv')\n",
    "miami_gdp = pd.read_csv('../assessment_8/data/miami_gdp.csv')\n",
    "tampa_gpd = pd.read_csv('../assessment_8/data/tampa_gdp.csv')\n",
    "miami_gdp"
   ]
  },
  {
   "cell_type": "code",
   "execution_count": null,
   "metadata": {},
   "outputs": [],
   "source": [
    "merged = pd.merge(orlando_gdp,miami_gdp, on='DATE', how='left')\n",
    "df = pd.merge(merged,tampa_gpd, on= 'DATE', how='left')\n",
    "df"
   ]
  },
  {
   "cell_type": "code",
   "execution_count": null,
   "metadata": {},
   "outputs": [],
   "source": [
    "gdp_final= df.rename(columns={'NGMP36740': 'Tampa_GDP', 'RGMP33100': 'Miami_GDP', 'NGMP45300': 'Orlando_GDP'})\n",
    "gdp_final\n"
   ]
  },
  {
   "cell_type": "code",
   "execution_count": 5,
   "metadata": {},
   "outputs": [],
   "source": [
    "gdp_final.to_csv('../assessment_8/data/gdp_df.csv', index=False)"
   ]
  },
  {
   "cell_type": "code",
   "execution_count": null,
   "metadata": {},
   "outputs": [],
   "source": []
  }
 ],
 "metadata": {
  "kernelspec": {
   "display_name": "base",
   "language": "python",
   "name": "python3"
  },
  "language_info": {
   "codemirror_mode": {
    "name": "ipython",
    "version": 3
   },
   "file_extension": ".py",
   "mimetype": "text/x-python",
   "name": "python",
   "nbconvert_exporter": "python",
   "pygments_lexer": "ipython3",
   "version": "3.11.2"
  },
  "orig_nbformat": 4
 },
 "nbformat": 4,
 "nbformat_minor": 2
}
