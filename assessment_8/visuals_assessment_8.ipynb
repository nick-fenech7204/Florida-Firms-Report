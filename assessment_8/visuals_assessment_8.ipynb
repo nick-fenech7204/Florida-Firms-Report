{
 "cells": [
  {
   "cell_type": "code",
   "execution_count": 2,
   "metadata": {},
   "outputs": [],
   "source": [
    "import plotly.express as px\n",
    "import plotly.graph_objs as go\n",
    "from plotly.subplots import make_subplots\n",
    "import matplotlib.pyplot as plt\n",
    "import numpy as np\n",
    "import seaborn as sns\n",
    "import pandas as pd"
   ]
  },
  {
   "cell_type": "code",
   "execution_count": 3,
   "metadata": {},
   "outputs": [],
   "source": [
    "municipality_df = pd.read_csv('../assessment_8/data/municipality_df.csv')\n",
    "gdp_df = pd.read_csv('../assessment_8/data/gdp_df.csv')"
   ]
  },
  {
   "cell_type": "code",
   "execution_count": 4,
   "metadata": {},
   "outputs": [
    {
     "data": {
      "text/plain": [
       "(63, 8)"
      ]
     },
     "execution_count": 4,
     "metadata": {},
     "output_type": "execute_result"
    }
   ],
   "source": [
    "miami = municipality_df[municipality_df['Municipality'] == 'Miami-Fort Lauderdale-West Palm Beach, FL Metro Area']\n",
    "miami.shape\n",
    "\n",
    "orlando = municipality_df[municipality_df['Municipality'] == 'Orlando-Kissimmee-Sanford, FL Metro Area']\n",
    "orlando.shape\n",
    "\n",
    "tampa = municipality_df[municipality_df['Municipality'] == 'Tampa-St. Petersburg-Clearwater, FL Metro Area']\n",
    "tampa.shape"
   ]
  },
  {
   "attachments": {},
   "cell_type": "markdown",
   "metadata": {},
   "source": [
    "### Firm Sales vs. Total Firms by Municipality"
   ]
  },
  {
   "cell_type": "code",
   "execution_count": null,
   "metadata": {},
   "outputs": [],
   "source": [
    "fig = make_subplots(rows=1, cols=3, subplot_titles=('Orlando', 'Miami', 'Tampa'))\n",
    "\n",
    "fig.add_trace(go.Bar(x=orlando['Firm_Sale_Amount'], y=orlando['Amount_of_Firms'], name='Orlando'), row=1, col=1)\n",
    "fig.add_trace(go.Bar(x=miami['Firm_Sale_Amount'], y=miami['Amount_of_Firms'], name='Miami'), row=1, col=2)\n",
    "fig.add_trace(go.Bar(x=tampa['Firm_Sale_Amount'], y=tampa['Amount_of_Firms'], name='Tampa'), row=1, col=3)\n",
    "\n",
    "fig.update_layout(title='Firm Sales vs. Total Firms in all Municipalities', xaxis=dict(title='Firm Sale Amount'), yaxis=dict(title='Amount of Firms'))\n",
    "fig.show()\n",
    "\n"
   ]
  },
  {
   "attachments": {},
   "cell_type": "markdown",
   "metadata": {},
   "source": [
    "### Diversity by Municipality"
   ]
  },
  {
   "cell_type": "code",
   "execution_count": null,
   "metadata": {},
   "outputs": [],
   "source": [
    "grouped_gender_tampa = tampa.groupby('Gender')['Amount_of_Firms'].mean()\n",
    "grouped_gender_tampa.astype(int)\n",
    "\n",
    "grouped_gender_orlando = orlando.groupby('Gender')['Amount_of_Firms'].mean()\n",
    "grouped_gender_tampa.astype(int)\n",
    "\n",
    "grouped_gender_miami = miami.groupby('Gender')['Amount_of_Firms'].mean()\n",
    "grouped_gender_tampa.astype(int)\n",
    "\n",
    "print('Gender Data')\n",
    "print(grouped_gender_tampa, grouped_gender_orlando, grouped_gender_miami)\n",
    "\n",
    "grouped_eth_tampa = tampa.groupby('Ethnicity')['Amount_of_Firms'].mean()\n",
    "grouped_eth_tampa.astype(int)\n",
    "\n",
    "grouped_eth_orlando = orlando.groupby('Ethnicity')['Amount_of_Firms'].mean()\n",
    "grouped_gender_tampa.astype(int)\n",
    "\n",
    "grouped_eth_miami = miami.groupby('Ethnicity')['Amount_of_Firms'].mean()\n",
    "grouped_eth_tampa.astype(int)\n",
    "print('==============================')\n",
    "print('Eth Data')\n",
    "print(grouped_eth_tampa, grouped_eth_orlando, grouped_eth_miami)"
   ]
  },
  {
   "cell_type": "code",
   "execution_count": null,
   "metadata": {},
   "outputs": [],
   "source": [
    "x = np.arange(3)\n",
    "f = [1268, 4366, 1440]\n",
    "m = [3513, 11239, 4232]\n",
    "e = [869, 2835, 980]\n",
    "width = 0.2\n",
    "\n",
    "plt.bar(x-0.2, f, width, color='blue')\n",
    "plt.bar(x, m, width, color='green')\n",
    "plt.bar(x+0.2, e, width, color='purple')\n",
    "plt.xticks(x, ['Orlando', 'Miami', 'Tampa'])\n",
    "plt.xlabel(\"Municipalities\", fontsize=11, weight = 'heavy')\n",
    "plt.ylabel(\"Amount of Firms\", fontsize=11, weight = 'bold')\n",
    "plt.title('Gender of Florida Firm Owners by Municipality', fontsize=13, weight = 'heavy')\n",
    "plt.legend([\"Female\", \"Male\", \"Equally male/female\"])\n",
    "plt.style.use('default')\n",
    "plt.show()\n",
    "\n",
    "x = np.arange(3)\n",
    "e = [21, 630, 6038]\n",
    "h = [0, 645, 4815]\n",
    "nh = [235, 5325, 12749]\n",
    "width = 0.2\n",
    "\n",
    "plt.bar(x-0.2, e, width, color='blue')\n",
    "plt.bar(x, h, width, color='purple')\n",
    "plt.bar(x+0.2, nh, width, color='green')\n",
    "plt.xticks(x, ['Orlando', 'Miami', 'Tampa'])\n",
    "plt.xlabel(\"Municipalities\", fontsize=11, weight = 'heavy')\n",
    "plt.ylabel(\"Amount of Firms\", fontsize=11, weight = 'heavy')\n",
    "plt.title('Ethnicity of Florida Firm Owners by Municipality', fontsize=13, weight = 'heavy')\n",
    "plt.legend([\"Equally Hispanic/non-Hispanic\", \"Hispanic\", \"Non-Hispanic\"])\n",
    "plt.style.use('default')\n",
    "plt.show()"
   ]
  },
  {
   "attachments": {},
   "cell_type": "markdown",
   "metadata": {},
   "source": [
    "### Firm Amount with GDP "
   ]
  },
  {
   "cell_type": "code",
   "execution_count": null,
   "metadata": {},
   "outputs": [],
   "source": [
    "year_gdp = gdp_df[gdp_df['DATE'] == '2018-01-01']\n",
    "\n",
    "\n",
    "firm_amount = municipality_df.groupby('Municipality')['Amount_of_Firms'].sum().reset_index()\n",
    "firm_amount\n",
    "year_gdp"
   ]
  },
  {
   "cell_type": "code",
   "execution_count": null,
   "metadata": {},
   "outputs": [],
   "source": [
    "fig, (ax1, ax2) = plt.subplots(2, 1, figsize=(12, 10))\n",
    "\n",
    "y = year_gdp['DATE']\n",
    "x1 = year_gdp['Miami_GDP']\n",
    "x2 = year_gdp['Tampa_GDP']\n",
    "x3 = year_gdp['Orlando_GDP']\n",
    "ax1.barh(y, x1, height=0.05, color='purple', align='center')\n",
    "ax1.barh(y, x2, height=0.05, color='green', align='center', left=x1)\n",
    "ax1.barh(y, x3, height=0.05, color='blue', align='center', left=x1+x2)\n",
    "ax1.set_xlabel('GDP', weight = 'bold')\n",
    "ax1.set_ylabel('Year', weight = 'bold')\n",
    "ax1.set_title('GDP Comparison by Municipalities in 2018', weight = 'heavy')\n",
    "ax1.legend(['Miami', 'Tampa', 'Orlando'])\n",
    "\n",
    "\n",
    "labels = ['Miami', 'Orlando', 'Tampa']\n",
    "colors = [ 'purple', 'blue', 'green']\n",
    "ax2.barh(firm_amount['Municipality'], firm_amount['Amount_of_Firms'], color= colors)\n",
    "ax2.set_title('Firm Amount Across all Municipalities', weight = 'heavy')\n",
    "ax2.set_xlabel('Amount of Firms', weight = 'bold')\n",
    "ax2.set_ylabel('Municipalities', weight = 'bold')\n",
    "plt.yticks(range(len(labels)), labels)\n",
    "plt.show()"
   ]
  },
  {
   "attachments": {},
   "cell_type": "markdown",
   "metadata": {},
   "source": [
    "### Correlation Between Amount of Firms and Employees "
   ]
  },
  {
   "cell_type": "code",
   "execution_count": null,
   "metadata": {},
   "outputs": [],
   "source": [
    "correl_matrix = municipality_df[['Employee_Amount', 'Amount_of_Firms']]\n",
    "correl_matrix\n",
    "fig, ax = plt.subplots(figsize=(10, 6))\n",
    "plt.scatter(correl_matrix['Employee_Amount'], correl_matrix['Amount_of_Firms'], marker='D', s=40, c='blue')\n",
    "plt.xlabel('Employee Amount', weight = 'bold')\n",
    "plt.ylabel('Amount of Firms', weight = 'bold')\n",
    "plt.title('Employee Amount vs. Amount of Firms for all Municipalities', weight = 'heavy')\n",
    "plt.xlim(0, 60000)\n",
    "plt.ylim(0, 15000)\n",
    "plt.style.use('default')\n",
    "plt.show()\n",
    "# outliers to show\n",
    "# as employee goes higher, does not mean there are more firms\n",
    "# plt.xlim(0, 1000000)\n",
    "# plt.ylim(0, 100000)   \n",
    "\n",
    "\n",
    "df = pd.DataFrame(correl_matrix)\n",
    "print('Correlation Matrix:')\n",
    "corrM = df.corr()\n",
    "corrM"
   ]
  },
  {
   "attachments": {},
   "cell_type": "markdown",
   "metadata": {},
   "source": [
    "### GDP Over the Years by Municipality"
   ]
  },
  {
   "cell_type": "code",
   "execution_count": null,
   "metadata": {},
   "outputs": [],
   "source": [
    "fig = px.area(gdp_df, x = 'DATE', y = ['Tampa_GDP', 'Orlando_GDP', 'Miami_GDP' ], \n",
    "        title = 'Municipalities GDP from 2001 to 2021',\n",
    "        color_discrete_sequence=['blue', 'green', 'purple'])\n",
    "\n",
    "fig.update_layout(\n",
    "    xaxis_title='Year',\n",
    "    yaxis_title='GDP',)\n",
    "fig.show()"
   ]
  }
 ],
 "metadata": {
  "kernelspec": {
   "display_name": "myenviorment",
   "language": "python",
   "name": "python3"
  },
  "language_info": {
   "codemirror_mode": {
    "name": "ipython",
    "version": 3
   },
   "file_extension": ".py",
   "mimetype": "text/x-python",
   "name": "python",
   "nbconvert_exporter": "python",
   "pygments_lexer": "ipython3",
   "version": "3.11.2"
  },
  "orig_nbformat": 4
 },
 "nbformat": 4,
 "nbformat_minor": 2
}
