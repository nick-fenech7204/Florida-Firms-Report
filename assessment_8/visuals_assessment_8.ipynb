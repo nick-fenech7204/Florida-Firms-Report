{
 "cells": [
  {
   "cell_type": "code",
   "execution_count": 2,
   "metadata": {},
   "outputs": [],
   "source": [
    "import plotly.express as px\n",
    "import plotly.graph_objs as go\n",
    "from plotly.subplots import make_subplots\n",
    "import matplotlib.pyplot as plt\n",
    "import numpy as np\n",
    "import seaborn as sns\n",
    "import pandas as pd"
   ]
  },
  {
   "cell_type": "code",
   "execution_count": 3,
   "metadata": {},
   "outputs": [],
   "source": [
    "municipality_df = pd.read_csv('../assessment_8/data/municipality_df.csv')\n",
    "gdp_df = pd.read_csv('../assessment_8/data/gdp_df.csv')"
   ]
  },
  {
   "cell_type": "code",
   "execution_count": 4,
   "metadata": {},
   "outputs": [
    {
     "data": {
      "text/plain": [
       "(63, 8)"
      ]
     },
     "execution_count": 4,
     "metadata": {},
     "output_type": "execute_result"
    }
   ],
   "source": [
    "miami = municipality_df[municipality_df['Municipality'] == 'Miami-Fort Lauderdale-West Palm Beach, FL Metro Area']\n",
    "miami.shape\n",
    "\n",
    "orlando = municipality_df[municipality_df['Municipality'] == 'Orlando-Kissimmee-Sanford, FL Metro Area']\n",
    "orlando.shape\n",
    "\n",
    "tampa = municipality_df[municipality_df['Municipality'] == 'Tampa-St. Petersburg-Clearwater, FL Metro Area']\n",
    "tampa.shape"
   ]
  },
  {
   "cell_type": "code",
   "execution_count": 5,
   "metadata": {},
   "outputs": [
    {
     "data": {
      "application/vnd.plotly.v1+json": {
       "config": {
        "plotlyServerURL": "https://plot.ly"
       },
       "data": [
        {
         "name": "Orlando",
         "type": "bar",
         "x": [
          "Less than $5,000",
          "$5,000-$9,999",
          "$10,000-$24,999",
          "$25,000-$49,999",
          "$50,000-$99,999",
          "$100,000-$249,999",
          "$250,000-$499,999",
          "$500,000-$999,999",
          "$1,000,000 or more",
          "$10,000-$24,999",
          "Less than $5,000",
          "$5,000-$9,999",
          "$25,000-$49,999",
          "$50,000-$99,999",
          "$100,000-$249,999",
          "$250,000-$499,999",
          "$500,000-$999,999",
          "$1,000,000 or more",
          "Less than $5,000",
          "$5,000-$9,999",
          "$10,000-$24,999",
          "$25,000-$49,999",
          "$50,000-$99,999",
          "$100,000-$249,999",
          "$250,000-$499,999",
          "$500,000-$999,999",
          "$1,000,000 or more",
          "$25,000-$49,999",
          "Less than $5,000",
          "$5,000-$9,999",
          "$10,000-$24,999",
          "$50,000-$99,999",
          "$100,000-$249,999",
          "$250,000-$499,999",
          "$500,000-$999,999",
          "$1,000,000 or more",
          "Less than $5,000",
          "$5,000-$9,999",
          "$10,000-$24,999",
          "$25,000-$49,999",
          "$50,000-$99,999",
          "$100,000-$249,999",
          "$250,000-$499,999",
          "$500,000-$999,999",
          "$1,000,000 or more",
          "Less than $5,000",
          "$5,000-$9,999",
          "$10,000-$24,999",
          "$25,000-$49,999",
          "$50,000-$99,999",
          "$100,000-$249,999",
          "$250,000-$499,999",
          "$500,000-$999,999",
          "$1,000,000 or more",
          "Less than $5,000",
          "$5,000-$9,999",
          "$10,000-$24,999",
          "$25,000-$49,999",
          "$500,000-$999,999",
          "$50,000-$99,999",
          "$100,000-$249,999",
          "$250,000-$499,999",
          "$1,000,000 or more"
         ],
         "xaxis": "x",
         "y": [
          441,
          632,
          1787,
          2518,
          6048,
          11572,
          9309,
          7593,
          14618,
          386,
          0,
          160,
          737,
          1540,
          2802,
          2303,
          1577,
          1914,
          237,
          405,
          1164,
          1545,
          3274,
          6576,
          5571,
          4585,
          8267,
          0,
          0,
          0,
          0,
          1204,
          2119,
          1309,
          1319,
          1873,
          0,
          0,
          210,
          0,
          857,
          1686,
          1638,
          1412,
          0,
          0,
          0,
          0,
          0,
          0,
          0,
          0,
          0,
          0,
          336,
          530,
          1557,
          2138,
          5914,
          5016,
          9705,
          7322,
          10819
         ],
         "yaxis": "y"
        },
        {
         "name": "Miami",
         "type": "bar",
         "x": [
          "Less than $5,000",
          "$5,000,$9,000",
          " $10,000-$24,999",
          "$25,000-$49,999",
          "$50,000-$99,999",
          "$100,000-$249,999",
          "$250,000 to $499,999",
          "$500,000-$999,999",
          " $1,000,000 or more",
          "Less than $5,000",
          "$5,000,$9,000",
          " $10,000-$24,999",
          "$25,000-$49,999",
          "$50,000-$99,999",
          "$100,000-$249,999",
          "$250,000 to $499,999",
          "$500,000-$999,999",
          " $1,000,000 or more",
          "Less than $5,000",
          "$5,000,$9,000",
          " $10,000-$24,999",
          "$25,000-$49,999",
          "$50,000-$99,999",
          "$100,000-$249,999",
          "$250,000 to $499,999",
          "$500,000-$999,999",
          " $1,000,000 or more",
          "Less than $5,000",
          "$5,000,$9,000",
          " $10,000-$24,999",
          "$25,000-$49,999",
          "$50,000-$99,999",
          "$100,000-$249,999",
          "$250,000 to $499,999",
          "$500,000-$999,999",
          " $1,000,000 or more",
          "Less than $5,000",
          "$5,000,$9,000",
          " $10,000-$24,999",
          "$25,000-$49,999",
          "$50,000-$99,999",
          "$100,000-$249,999",
          "$250,000 to $499,999",
          "$500,000-$999,999",
          " $1,000,000 or more",
          "Less than $5,000",
          "$5,000,$9,000",
          " $10,000-$24,999",
          "$25,000-$49,999",
          "$50,000-$99,999",
          "$100,000-$249,999",
          "$250,000 to $499,999",
          "$500,000-$999,999",
          " $1,000,000 or more",
          "Less than $5,000",
          "$5,000,$9,000",
          " $10,000-$24,999",
          "$25,000-$49,999",
          "$50,000-$99,999",
          "$100,000-$249,999",
          "$250,000 to $499,999",
          "$500,000-$999,999",
          " $1,000,000 or more"
         ],
         "xaxis": "x2",
         "y": [
          1233,
          1115,
          4375,
          8950,
          17632,
          35846,
          31088,
          27422,
          44173,
          0,
          291,
          1139,
          2495,
          5443,
          9747,
          6877,
          5469,
          7837,
          775,
          661,
          2641,
          4871,
          9104,
          20485,
          19283,
          17139,
          26192,
          0,
          0,
          587,
          1560,
          2988,
          5371,
          4499,
          4250,
          6267,
          450,
          0,
          1249,
          2580,
          5627,
          11372,
          8749,
          7658,
          10243,
          0,
          0,
          0,
          0,
          365,
          656,
          597,
          503,
          0,
          706,
          804,
          3061,
          6146,
          11540,
          23576,
          21312,
          18695,
          28908
         ],
         "yaxis": "y2"
        },
        {
         "name": "Tampa",
         "type": "bar",
         "x": [
          "Less than $5,000",
          "$5,000,$9,000",
          " $10,000-$24,999",
          "$25,000-$49,999",
          "$50,000-$99,999",
          "$100,000-$249,999",
          "$250,000 to $499,999",
          "$500,000-$999,999",
          " $1,000,000 or more",
          "Less than $5,000",
          "$5,000,$9,000",
          " $10,000-$24,999",
          "$25,000-$49,999",
          "$50,000-$99,999",
          "$100,000-$249,999",
          "$250,000 to $499,999",
          "$500,000-$999,999",
          " $1,000,000 or more",
          "Less than $5,000",
          "$5,000,$9,000",
          " $10,000-$24,999",
          "$25,000-$49,999",
          "$50,000-$99,999",
          "$100,000-$249,999",
          "$250,000 to $499,999",
          "$500,000-$999,999",
          " $1,000,000 or more",
          "Less than $5,000",
          "$5,000,$9,000",
          " $10,000-$24,999",
          "$25,000-$49,999",
          "$50,000-$99,999",
          "$100,000-$249,999",
          "$250,000 to $499,999",
          "$500,000-$999,999",
          " $1,000,000 or more",
          "Less than $5,000",
          "$5,000,$9,000",
          " $10,000-$24,999",
          "$25,000-$49,999",
          "$50,000-$99,999",
          "$100,000-$249,999",
          "$250,000 to $499,999",
          "$500,000-$999,999",
          " $1,000,000 or more",
          "Less than $5,000",
          "$5,000,$9,000",
          " $10,000-$24,999",
          "$25,000-$49,999",
          "$50,000-$99,999",
          "$100,000-$249,999",
          "$250,000 to $499,999",
          "$500,000-$999,999",
          " $1,000,000 or more",
          "Less than $5,000",
          "$5,000,$9,000",
          " $10,000-$24,999",
          "$25,000-$49,999",
          "$50,000-$99,999",
          "$100,000-$249,999",
          "$250,000 to $499,999",
          "$500,000-$999,999",
          " $1,000,000 or more"
         ],
         "xaxis": "x3",
         "y": [
          527,
          554,
          1444,
          2903,
          6562,
          13107,
          11657,
          9591,
          18114,
          0,
          0,
          0,
          836,
          1765,
          3315,
          2583,
          1987,
          2474,
          0,
          397,
          859,
          1712,
          3855,
          7608,
          7215,
          5881,
          10569,
          0,
          0,
          0,
          313,
          908,
          2027,
          1696,
          1529,
          2350,
          0,
          0,
          0,
          335,
          634,
          1206,
          1221,
          1182,
          1094,
          0,
          0,
          0,
          0,
          0,
          190,
          0,
          0,
          0,
          498,
          506,
          1261,
          2490,
          5813,
          11554,
          10073,
          8022,
          14129
         ],
         "yaxis": "y3"
        }
       ],
       "layout": {
        "annotations": [
         {
          "font": {
           "size": 16
          },
          "showarrow": false,
          "text": "Orlando",
          "x": 0.14444444444444446,
          "xanchor": "center",
          "xref": "paper",
          "y": 1,
          "yanchor": "bottom",
          "yref": "paper"
         },
         {
          "font": {
           "size": 16
          },
          "showarrow": false,
          "text": "Miami",
          "x": 0.5,
          "xanchor": "center",
          "xref": "paper",
          "y": 1,
          "yanchor": "bottom",
          "yref": "paper"
         },
         {
          "font": {
           "size": 16
          },
          "showarrow": false,
          "text": "Tampa",
          "x": 0.8555555555555556,
          "xanchor": "center",
          "xref": "paper",
          "y": 1,
          "yanchor": "bottom",
          "yref": "paper"
         }
        ],
        "template": {
         "data": {
          "bar": [
           {
            "error_x": {
             "color": "#2a3f5f"
            },
            "error_y": {
             "color": "#2a3f5f"
            },
            "marker": {
             "line": {
              "color": "#E5ECF6",
              "width": 0.5
             },
             "pattern": {
              "fillmode": "overlay",
              "size": 10,
              "solidity": 0.2
             }
            },
            "type": "bar"
           }
          ],
          "barpolar": [
           {
            "marker": {
             "line": {
              "color": "#E5ECF6",
              "width": 0.5
             },
             "pattern": {
              "fillmode": "overlay",
              "size": 10,
              "solidity": 0.2
             }
            },
            "type": "barpolar"
           }
          ],
          "carpet": [
           {
            "aaxis": {
             "endlinecolor": "#2a3f5f",
             "gridcolor": "white",
             "linecolor": "white",
             "minorgridcolor": "white",
             "startlinecolor": "#2a3f5f"
            },
            "baxis": {
             "endlinecolor": "#2a3f5f",
             "gridcolor": "white",
             "linecolor": "white",
             "minorgridcolor": "white",
             "startlinecolor": "#2a3f5f"
            },
            "type": "carpet"
           }
          ],
          "choropleth": [
           {
            "colorbar": {
             "outlinewidth": 0,
             "ticks": ""
            },
            "type": "choropleth"
           }
          ],
          "contour": [
           {
            "colorbar": {
             "outlinewidth": 0,
             "ticks": ""
            },
            "colorscale": [
             [
              0,
              "#0d0887"
             ],
             [
              0.1111111111111111,
              "#46039f"
             ],
             [
              0.2222222222222222,
              "#7201a8"
             ],
             [
              0.3333333333333333,
              "#9c179e"
             ],
             [
              0.4444444444444444,
              "#bd3786"
             ],
             [
              0.5555555555555556,
              "#d8576b"
             ],
             [
              0.6666666666666666,
              "#ed7953"
             ],
             [
              0.7777777777777778,
              "#fb9f3a"
             ],
             [
              0.8888888888888888,
              "#fdca26"
             ],
             [
              1,
              "#f0f921"
             ]
            ],
            "type": "contour"
           }
          ],
          "contourcarpet": [
           {
            "colorbar": {
             "outlinewidth": 0,
             "ticks": ""
            },
            "type": "contourcarpet"
           }
          ],
          "heatmap": [
           {
            "colorbar": {
             "outlinewidth": 0,
             "ticks": ""
            },
            "colorscale": [
             [
              0,
              "#0d0887"
             ],
             [
              0.1111111111111111,
              "#46039f"
             ],
             [
              0.2222222222222222,
              "#7201a8"
             ],
             [
              0.3333333333333333,
              "#9c179e"
             ],
             [
              0.4444444444444444,
              "#bd3786"
             ],
             [
              0.5555555555555556,
              "#d8576b"
             ],
             [
              0.6666666666666666,
              "#ed7953"
             ],
             [
              0.7777777777777778,
              "#fb9f3a"
             ],
             [
              0.8888888888888888,
              "#fdca26"
             ],
             [
              1,
              "#f0f921"
             ]
            ],
            "type": "heatmap"
           }
          ],
          "heatmapgl": [
           {
            "colorbar": {
             "outlinewidth": 0,
             "ticks": ""
            },
            "colorscale": [
             [
              0,
              "#0d0887"
             ],
             [
              0.1111111111111111,
              "#46039f"
             ],
             [
              0.2222222222222222,
              "#7201a8"
             ],
             [
              0.3333333333333333,
              "#9c179e"
             ],
             [
              0.4444444444444444,
              "#bd3786"
             ],
             [
              0.5555555555555556,
              "#d8576b"
             ],
             [
              0.6666666666666666,
              "#ed7953"
             ],
             [
              0.7777777777777778,
              "#fb9f3a"
             ],
             [
              0.8888888888888888,
              "#fdca26"
             ],
             [
              1,
              "#f0f921"
             ]
            ],
            "type": "heatmapgl"
           }
          ],
          "histogram": [
           {
            "marker": {
             "pattern": {
              "fillmode": "overlay",
              "size": 10,
              "solidity": 0.2
             }
            },
            "type": "histogram"
           }
          ],
          "histogram2d": [
           {
            "colorbar": {
             "outlinewidth": 0,
             "ticks": ""
            },
            "colorscale": [
             [
              0,
              "#0d0887"
             ],
             [
              0.1111111111111111,
              "#46039f"
             ],
             [
              0.2222222222222222,
              "#7201a8"
             ],
             [
              0.3333333333333333,
              "#9c179e"
             ],
             [
              0.4444444444444444,
              "#bd3786"
             ],
             [
              0.5555555555555556,
              "#d8576b"
             ],
             [
              0.6666666666666666,
              "#ed7953"
             ],
             [
              0.7777777777777778,
              "#fb9f3a"
             ],
             [
              0.8888888888888888,
              "#fdca26"
             ],
             [
              1,
              "#f0f921"
             ]
            ],
            "type": "histogram2d"
           }
          ],
          "histogram2dcontour": [
           {
            "colorbar": {
             "outlinewidth": 0,
             "ticks": ""
            },
            "colorscale": [
             [
              0,
              "#0d0887"
             ],
             [
              0.1111111111111111,
              "#46039f"
             ],
             [
              0.2222222222222222,
              "#7201a8"
             ],
             [
              0.3333333333333333,
              "#9c179e"
             ],
             [
              0.4444444444444444,
              "#bd3786"
             ],
             [
              0.5555555555555556,
              "#d8576b"
             ],
             [
              0.6666666666666666,
              "#ed7953"
             ],
             [
              0.7777777777777778,
              "#fb9f3a"
             ],
             [
              0.8888888888888888,
              "#fdca26"
             ],
             [
              1,
              "#f0f921"
             ]
            ],
            "type": "histogram2dcontour"
           }
          ],
          "mesh3d": [
           {
            "colorbar": {
             "outlinewidth": 0,
             "ticks": ""
            },
            "type": "mesh3d"
           }
          ],
          "parcoords": [
           {
            "line": {
             "colorbar": {
              "outlinewidth": 0,
              "ticks": ""
             }
            },
            "type": "parcoords"
           }
          ],
          "pie": [
           {
            "automargin": true,
            "type": "pie"
           }
          ],
          "scatter": [
           {
            "fillpattern": {
             "fillmode": "overlay",
             "size": 10,
             "solidity": 0.2
            },
            "type": "scatter"
           }
          ],
          "scatter3d": [
           {
            "line": {
             "colorbar": {
              "outlinewidth": 0,
              "ticks": ""
             }
            },
            "marker": {
             "colorbar": {
              "outlinewidth": 0,
              "ticks": ""
             }
            },
            "type": "scatter3d"
           }
          ],
          "scattercarpet": [
           {
            "marker": {
             "colorbar": {
              "outlinewidth": 0,
              "ticks": ""
             }
            },
            "type": "scattercarpet"
           }
          ],
          "scattergeo": [
           {
            "marker": {
             "colorbar": {
              "outlinewidth": 0,
              "ticks": ""
             }
            },
            "type": "scattergeo"
           }
          ],
          "scattergl": [
           {
            "marker": {
             "colorbar": {
              "outlinewidth": 0,
              "ticks": ""
             }
            },
            "type": "scattergl"
           }
          ],
          "scattermapbox": [
           {
            "marker": {
             "colorbar": {
              "outlinewidth": 0,
              "ticks": ""
             }
            },
            "type": "scattermapbox"
           }
          ],
          "scatterpolar": [
           {
            "marker": {
             "colorbar": {
              "outlinewidth": 0,
              "ticks": ""
             }
            },
            "type": "scatterpolar"
           }
          ],
          "scatterpolargl": [
           {
            "marker": {
             "colorbar": {
              "outlinewidth": 0,
              "ticks": ""
             }
            },
            "type": "scatterpolargl"
           }
          ],
          "scatterternary": [
           {
            "marker": {
             "colorbar": {
              "outlinewidth": 0,
              "ticks": ""
             }
            },
            "type": "scatterternary"
           }
          ],
          "surface": [
           {
            "colorbar": {
             "outlinewidth": 0,
             "ticks": ""
            },
            "colorscale": [
             [
              0,
              "#0d0887"
             ],
             [
              0.1111111111111111,
              "#46039f"
             ],
             [
              0.2222222222222222,
              "#7201a8"
             ],
             [
              0.3333333333333333,
              "#9c179e"
             ],
             [
              0.4444444444444444,
              "#bd3786"
             ],
             [
              0.5555555555555556,
              "#d8576b"
             ],
             [
              0.6666666666666666,
              "#ed7953"
             ],
             [
              0.7777777777777778,
              "#fb9f3a"
             ],
             [
              0.8888888888888888,
              "#fdca26"
             ],
             [
              1,
              "#f0f921"
             ]
            ],
            "type": "surface"
           }
          ],
          "table": [
           {
            "cells": {
             "fill": {
              "color": "#EBF0F8"
             },
             "line": {
              "color": "white"
             }
            },
            "header": {
             "fill": {
              "color": "#C8D4E3"
             },
             "line": {
              "color": "white"
             }
            },
            "type": "table"
           }
          ]
         },
         "layout": {
          "annotationdefaults": {
           "arrowcolor": "#2a3f5f",
           "arrowhead": 0,
           "arrowwidth": 1
          },
          "autotypenumbers": "strict",
          "coloraxis": {
           "colorbar": {
            "outlinewidth": 0,
            "ticks": ""
           }
          },
          "colorscale": {
           "diverging": [
            [
             0,
             "#8e0152"
            ],
            [
             0.1,
             "#c51b7d"
            ],
            [
             0.2,
             "#de77ae"
            ],
            [
             0.3,
             "#f1b6da"
            ],
            [
             0.4,
             "#fde0ef"
            ],
            [
             0.5,
             "#f7f7f7"
            ],
            [
             0.6,
             "#e6f5d0"
            ],
            [
             0.7,
             "#b8e186"
            ],
            [
             0.8,
             "#7fbc41"
            ],
            [
             0.9,
             "#4d9221"
            ],
            [
             1,
             "#276419"
            ]
           ],
           "sequential": [
            [
             0,
             "#0d0887"
            ],
            [
             0.1111111111111111,
             "#46039f"
            ],
            [
             0.2222222222222222,
             "#7201a8"
            ],
            [
             0.3333333333333333,
             "#9c179e"
            ],
            [
             0.4444444444444444,
             "#bd3786"
            ],
            [
             0.5555555555555556,
             "#d8576b"
            ],
            [
             0.6666666666666666,
             "#ed7953"
            ],
            [
             0.7777777777777778,
             "#fb9f3a"
            ],
            [
             0.8888888888888888,
             "#fdca26"
            ],
            [
             1,
             "#f0f921"
            ]
           ],
           "sequentialminus": [
            [
             0,
             "#0d0887"
            ],
            [
             0.1111111111111111,
             "#46039f"
            ],
            [
             0.2222222222222222,
             "#7201a8"
            ],
            [
             0.3333333333333333,
             "#9c179e"
            ],
            [
             0.4444444444444444,
             "#bd3786"
            ],
            [
             0.5555555555555556,
             "#d8576b"
            ],
            [
             0.6666666666666666,
             "#ed7953"
            ],
            [
             0.7777777777777778,
             "#fb9f3a"
            ],
            [
             0.8888888888888888,
             "#fdca26"
            ],
            [
             1,
             "#f0f921"
            ]
           ]
          },
          "colorway": [
           "#636efa",
           "#EF553B",
           "#00cc96",
           "#ab63fa",
           "#FFA15A",
           "#19d3f3",
           "#FF6692",
           "#B6E880",
           "#FF97FF",
           "#FECB52"
          ],
          "font": {
           "color": "#2a3f5f"
          },
          "geo": {
           "bgcolor": "white",
           "lakecolor": "white",
           "landcolor": "#E5ECF6",
           "showlakes": true,
           "showland": true,
           "subunitcolor": "white"
          },
          "hoverlabel": {
           "align": "left"
          },
          "hovermode": "closest",
          "mapbox": {
           "style": "light"
          },
          "paper_bgcolor": "white",
          "plot_bgcolor": "#E5ECF6",
          "polar": {
           "angularaxis": {
            "gridcolor": "white",
            "linecolor": "white",
            "ticks": ""
           },
           "bgcolor": "#E5ECF6",
           "radialaxis": {
            "gridcolor": "white",
            "linecolor": "white",
            "ticks": ""
           }
          },
          "scene": {
           "xaxis": {
            "backgroundcolor": "#E5ECF6",
            "gridcolor": "white",
            "gridwidth": 2,
            "linecolor": "white",
            "showbackground": true,
            "ticks": "",
            "zerolinecolor": "white"
           },
           "yaxis": {
            "backgroundcolor": "#E5ECF6",
            "gridcolor": "white",
            "gridwidth": 2,
            "linecolor": "white",
            "showbackground": true,
            "ticks": "",
            "zerolinecolor": "white"
           },
           "zaxis": {
            "backgroundcolor": "#E5ECF6",
            "gridcolor": "white",
            "gridwidth": 2,
            "linecolor": "white",
            "showbackground": true,
            "ticks": "",
            "zerolinecolor": "white"
           }
          },
          "shapedefaults": {
           "line": {
            "color": "#2a3f5f"
           }
          },
          "ternary": {
           "aaxis": {
            "gridcolor": "white",
            "linecolor": "white",
            "ticks": ""
           },
           "baxis": {
            "gridcolor": "white",
            "linecolor": "white",
            "ticks": ""
           },
           "bgcolor": "#E5ECF6",
           "caxis": {
            "gridcolor": "white",
            "linecolor": "white",
            "ticks": ""
           }
          },
          "title": {
           "x": 0.05
          },
          "xaxis": {
           "automargin": true,
           "gridcolor": "white",
           "linecolor": "white",
           "ticks": "",
           "title": {
            "standoff": 15
           },
           "zerolinecolor": "white",
           "zerolinewidth": 2
          },
          "yaxis": {
           "automargin": true,
           "gridcolor": "white",
           "linecolor": "white",
           "ticks": "",
           "title": {
            "standoff": 15
           },
           "zerolinecolor": "white",
           "zerolinewidth": 2
          }
         }
        },
        "title": {
         "text": "Firm Sales vs. Total Firms in all Municipalities"
        },
        "xaxis": {
         "anchor": "y",
         "domain": [
          0,
          0.2888888888888889
         ],
         "title": {
          "text": "Firm Sale Amount"
         }
        },
        "xaxis2": {
         "anchor": "y2",
         "domain": [
          0.35555555555555557,
          0.6444444444444445
         ]
        },
        "xaxis3": {
         "anchor": "y3",
         "domain": [
          0.7111111111111111,
          1
         ]
        },
        "yaxis": {
         "anchor": "x",
         "domain": [
          0,
          1
         ],
         "title": {
          "text": "Amount of Firms"
         }
        },
        "yaxis2": {
         "anchor": "x2",
         "domain": [
          0,
          1
         ]
        },
        "yaxis3": {
         "anchor": "x3",
         "domain": [
          0,
          1
         ]
        }
       }
      }
     },
     "metadata": {},
     "output_type": "display_data"
    }
   ],
   "source": [
    "fig = make_subplots(rows=1, cols=3, subplot_titles=('Orlando', 'Miami', 'Tampa'))\n",
    "\n",
    "fig.add_trace(go.Bar(x=orlando['Firm_Sale_Amount'], y=orlando['Amount_of_Firms'], name='Orlando'), row=1, col=1)\n",
    "fig.add_trace(go.Bar(x=miami['Firm_Sale_Amount'], y=miami['Amount_of_Firms'], name='Miami'), row=1, col=2)\n",
    "fig.add_trace(go.Bar(x=tampa['Firm_Sale_Amount'], y=tampa['Amount_of_Firms'], name='Tampa'), row=1, col=3)\n",
    "\n",
    "fig.update_layout(title='Firm Sales vs. Total Firms in all Municipalities', xaxis=dict(title='Firm Sale Amount'), yaxis=dict(title='Amount of Firms'))\n",
    "fig.show()\n",
    "\n"
   ]
  },
  {
   "cell_type": "code",
   "execution_count": 6,
   "metadata": {},
   "outputs": [
    {
     "name": "stdout",
     "output_type": "stream",
     "text": [
      "Gender Data\n",
      "Gender\n",
      "Equally male/female     980.333333\n",
      "Female                 1440.000000\n",
      "Male                   4232.888889\n",
      "Name: Amount_of_Firms, dtype: float64 Gender\n",
      "Equally male/female     869.333333\n",
      "Female                 1268.777778\n",
      "Male                   3513.777778\n",
      "Name: Amount_of_Firms, dtype: float64 Gender\n",
      "Equally male/female     2835.777778\n",
      "Female                  4366.444444\n",
      "Male                   11239.000000\n",
      "Name: Amount_of_Firms, dtype: float64\n",
      "==============================\n",
      "Eth Data\n",
      "Ethnicity\n",
      "Equally Hispanic/non-Hispanic      21.111111\n",
      "Hispanic                          630.222222\n",
      "Non-Hispanic                     6038.444444\n",
      "Name: Amount_of_Firms, dtype: float64 Ethnicity\n",
      "Equally Hispanic/non-Hispanic       0.000000\n",
      "Hispanic                          644.777778\n",
      "Non-Hispanic                     4815.222222\n",
      "Name: Amount_of_Firms, dtype: float64 Ethnicity\n",
      "Equally Hispanic/non-Hispanic      235.666667\n",
      "Hispanic                          5325.333333\n",
      "Non-Hispanic                     12749.777778\n",
      "Name: Amount_of_Firms, dtype: float64\n"
     ]
    }
   ],
   "source": [
    "grouped_gender_tampa = tampa.groupby('Gender')['Amount_of_Firms'].mean()\n",
    "grouped_gender_tampa.astype(int)\n",
    "\n",
    "grouped_gender_orlando = orlando.groupby('Gender')['Amount_of_Firms'].mean()\n",
    "grouped_gender_tampa.astype(int)\n",
    "\n",
    "grouped_gender_miami = miami.groupby('Gender')['Amount_of_Firms'].mean()\n",
    "grouped_gender_tampa.astype(int)\n",
    "\n",
    "print('Gender Data')\n",
    "print(grouped_gender_tampa, grouped_gender_orlando, grouped_gender_miami)\n",
    "\n",
    "grouped_eth_tampa = tampa.groupby('Ethnicity')['Amount_of_Firms'].mean()\n",
    "grouped_eth_tampa.astype(int)\n",
    "\n",
    "grouped_eth_orlando = orlando.groupby('Ethnicity')['Amount_of_Firms'].mean()\n",
    "grouped_gender_tampa.astype(int)\n",
    "\n",
    "grouped_eth_miami = miami.groupby('Ethnicity')['Amount_of_Firms'].mean()\n",
    "grouped_eth_tampa.astype(int)\n",
    "print('==============================')\n",
    "print('Eth Data')\n",
    "print(grouped_eth_tampa, grouped_eth_orlando, grouped_eth_miami)"
   ]
  },
  {
   "cell_type": "code",
   "execution_count": 7,
   "metadata": {},
   "outputs": [
    {
     "data": {
      "image/png": "[encoded data removed]",
      "text/plain": [
       "<Figure size 640x480 with 1 Axes>"
      ]
     },
     "metadata": {},
     "output_type": "display_data"
    },
    {
     "data": {
      "image/png": "[encoded data removed]",
      "text/plain": [
       "<Figure size 640x480 with 1 Axes>"
      ]
     },
     "metadata": {},
     "output_type": "display_data"
    }
   ],
   "source": [
    "x = np.arange(3)\n",
    "f = [1268, 4366, 1440]\n",
    "m = [3513, 11239, 4232]\n",
    "e = [869, 2835, 980]\n",
    "width = 0.2\n",
    "\n",
    "plt.bar(x-0.2, f, width, color='cyan')\n",
    "plt.bar(x, m, width, color='orange')\n",
    "plt.bar(x+0.2, e, width, color='green')\n",
    "plt.xticks(x, ['Orlando', 'Miami', 'Tampa'])\n",
    "plt.xlabel(\"Cities\", fontsize=14)\n",
    "plt.ylabel(\"Amount of Firms\", fontsize=14)\n",
    "plt.title('Gender of Florida Firm Owners by City', fontsize=16)\n",
    "plt.legend([\"Female\", \"Male\", \"Equally male/female\"])\n",
    "plt.style.use('default')\n",
    "plt.show()\n",
    "\n",
    "x = np.arange(3)\n",
    "e = [21, 630, 6038]\n",
    "h = [0, 645, 4815]\n",
    "nh = [235, 5325, 12749]\n",
    "width = 0.2\n",
    "\n",
    "plt.bar(x-0.2, e, width, color='cyan')\n",
    "plt.bar(x, h, width, color='orange')\n",
    "plt.bar(x+0.2, nh, width, color='green')\n",
    "plt.xticks(x, ['Orlando', 'Miami', 'Tampa'])\n",
    "plt.xlabel(\"Cities\", fontsize=14)\n",
    "plt.ylabel(\"Amount of Firms\", fontsize=14)\n",
    "plt.title('Ethnicity of Florida Firm Owners by City', fontsize=16)\n",
    "plt.legend([\"Equally Hispanic/non-Hispanic\", \"Hispanic\", \"Non-Hispanic\"])\n",
    "plt.style.use('dark_background')\n",
    "plt.show()"
   ]
  },
  {
   "cell_type": "code",
   "execution_count": 8,
   "metadata": {},
   "outputs": [
    {
     "data": {
      "text/html": [
       "<div>\n",
       "<style scoped>\n",
       "    .dataframe tbody tr th:only-of-type {\n",
       "        vertical-align: middle;\n",
       "    }\n",
       "\n",
       "    .dataframe tbody tr th {\n",
       "        vertical-align: top;\n",
       "    }\n",
       "\n",
       "    .dataframe thead th {\n",
       "        text-align: right;\n",
       "    }\n",
       "</style>\n",
       "<table border=\"1\" class=\"dataframe\">\n",
       "  <thead>\n",
       "    <tr style=\"text-align: right;\">\n",
       "      <th></th>\n",
       "      <th>Municipality</th>\n",
       "      <th>Amount_of_Firms</th>\n",
       "    </tr>\n",
       "  </thead>\n",
       "  <tbody>\n",
       "    <tr>\n",
       "      <th>0</th>\n",
       "      <td>Miami-Fort Lauderdale-West Palm Beach, FL Metr...</td>\n",
       "      <td>502602</td>\n",
       "    </tr>\n",
       "    <tr>\n",
       "      <th>1</th>\n",
       "      <td>Orlando-Kissimmee-Sanford, FL Metro Area</td>\n",
       "      <td>154525</td>\n",
       "    </tr>\n",
       "    <tr>\n",
       "      <th>2</th>\n",
       "      <td>Tampa-St. Petersburg-Clearwater, FL Metro Area</td>\n",
       "      <td>184546</td>\n",
       "    </tr>\n",
       "  </tbody>\n",
       "</table>\n",
       "</div>"
      ],
      "text/plain": [
       "                                        Municipality  Amount_of_Firms\n",
       "0  Miami-Fort Lauderdale-West Palm Beach, FL Metr...           502602\n",
       "1           Orlando-Kissimmee-Sanford, FL Metro Area           154525\n",
       "2     Tampa-St. Petersburg-Clearwater, FL Metro Area           184546"
      ]
     },
     "execution_count": 8,
     "metadata": {},
     "output_type": "execute_result"
    }
   ],
   "source": [
    "miami_gdp = gdp_df[gdp_df['DATE'] == '2018-01-01']\n",
    "miami_gdp\n",
    "\n",
    "firm_amount = municipality_df.groupby('Municipality')['Amount_of_Firms'].sum().reset_index()\n",
    "firm_amount"
   ]
  },
  {
   "cell_type": "code",
   "execution_count": 30,
   "metadata": {},
   "outputs": [
    {
     "data": {
      "image/png": "[encoded data removed]",
      "text/plain": [
       "<Figure size 1200x1000 with 2 Axes>"
      ]
     },
     "metadata": {},
     "output_type": "display_data"
    }
   ],
   "source": [
    "# create figure with two subplots\n",
    "fig, (ax1, ax2) = plt.subplots(2, 1, figsize=(12, 10))\n",
    "\n",
    "# plot the first chart in the first subplot\n",
    "y = miami_gdp['DATE']\n",
    "x1 = miami_gdp['Miami_GDP']\n",
    "x2 = miami_gdp['Tampa_GDP']\n",
    "x3 = miami_gdp['Orlando_GDP']\n",
    "ax1.barh(y, x1, height=0.05, color='purple', align='center')\n",
    "ax1.barh(y, x2, height=0.05, color='green', align='center', left=x1)\n",
    "ax1.barh(y, x3, height=0.05, color='blue', align='center', left=x1+x2)\n",
    "ax1.set_xlabel('GDP')\n",
    "ax1.set_ylabel('')\n",
    "ax1.set_title('GDP Comparison by Municipalities in 2018')\n",
    "ax1.legend(['Miami', 'Tampa', 'Orlando'])\n",
    "\n",
    "ax2.barh(firm_amount['Municipality'], firm_amount['Amount_of_Firms'])\n",
    "ax2.set_title('Firm Amount Across all Municipalities')\n",
    "ax2.set_xlabel('Amount of Firms')\n",
    "ax2.set_ylabel('Municipalities')\n",
    "plt.show()"
   ]
  },
  {
   "cell_type": "code",
   "execution_count": 29,
   "metadata": {},
   "outputs": [
    {
     "data": {
      "image/png": "[encoded data removed]",
      "text/plain": [
       "<Figure size 1000x600 with 1 Axes>"
      ]
     },
     "metadata": {},
     "output_type": "display_data"
    },
    {
     "name": "stdout",
     "output_type": "stream",
     "text": [
      "Correlation Matrix:\n"
     ]
    },
    {
     "data": {
      "text/html": [
       "<div>\n",
       "<style scoped>\n",
       "    .dataframe tbody tr th:only-of-type {\n",
       "        vertical-align: middle;\n",
       "    }\n",
       "\n",
       "    .dataframe tbody tr th {\n",
       "        vertical-align: top;\n",
       "    }\n",
       "\n",
       "    .dataframe thead th {\n",
       "        text-align: right;\n",
       "    }\n",
       "</style>\n",
       "<table border=\"1\" class=\"dataframe\">\n",
       "  <thead>\n",
       "    <tr style=\"text-align: right;\">\n",
       "      <th></th>\n",
       "      <th>Employee_Amount</th>\n",
       "      <th>Amount_of_Firms</th>\n",
       "    </tr>\n",
       "  </thead>\n",
       "  <tbody>\n",
       "    <tr>\n",
       "      <th>Employee_Amount</th>\n",
       "      <td>1.000000</td>\n",
       "      <td>0.614902</td>\n",
       "    </tr>\n",
       "    <tr>\n",
       "      <th>Amount_of_Firms</th>\n",
       "      <td>0.614902</td>\n",
       "      <td>1.000000</td>\n",
       "    </tr>\n",
       "  </tbody>\n",
       "</table>\n",
       "</div>"
      ],
      "text/plain": [
       "                 Employee_Amount  Amount_of_Firms\n",
       "Employee_Amount         1.000000         0.614902\n",
       "Amount_of_Firms         0.614902         1.000000"
      ]
     },
     "execution_count": 29,
     "metadata": {},
     "output_type": "execute_result"
    }
   ],
   "source": [
    "correl_matrix = municipality_df[['Employee_Amount', 'Amount_of_Firms']]\n",
    "correl_matrix\n",
    "fig, ax = plt.subplots(figsize=(10, 6))\n",
    "plt.scatter(correl_matrix['Employee_Amount'], correl_matrix['Amount_of_Firms'])\n",
    "plt.xlabel('Employee Amount')\n",
    "plt.ylabel('Amount of Firms')\n",
    "plt.title('Employee Amount vs. Amount of Firms for all Municipalities')\n",
    "plt.xlim(0, 70000)\n",
    "plt.ylim(0, 15000)\n",
    "plt.style.use('default')\n",
    "plt.show()\n",
    "# outliers to show\n",
    "# as employee goes higher, does not mean there are more firms\n",
    "# plt.xlim(0, 1000000)\n",
    "# plt.ylim(0, 100000) \n",
    "\n",
    "\n",
    "df = pd.DataFrame(correl_matrix)\n",
    "print('Correlation Matrix:')\n",
    "corrM = df.corr()\n",
    "corrM"
   ]
  },
  {
   "cell_type": "code",
   "execution_count": null,
   "metadata": {},
   "outputs": [],
   "source": []
  }
 ],
 "metadata": {
  "kernelspec": {
   "display_name": "myenviorment",
   "language": "python",
   "name": "python3"
  },
  "language_info": {
   "codemirror_mode": {
    "name": "ipython",
    "version": 3
   },
   "file_extension": ".py",
   "mimetype": "text/x-python",
   "name": "python",
   "nbconvert_exporter": "python",
   "pygments_lexer": "ipython3",
   "version": "3.11.2"
  },
  "orig_nbformat": 4
 },
 "nbformat": 4,
 "nbformat_minor": 2
}
